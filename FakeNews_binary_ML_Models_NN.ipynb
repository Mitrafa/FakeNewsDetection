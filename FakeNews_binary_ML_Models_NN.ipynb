{
  "cells": [
    {
      "cell_type": "markdown",
      "metadata": {
        "id": "n0WprYHMYid0"
      },
      "source": [
        "# Libraries"
      ]
    },
    {
      "cell_type": "code",
      "source": [
        "!pip install scikeras"
      ],
      "metadata": {
        "colab": {
          "base_uri": "https://localhost:8080/"
        },
        "id": "AGkvITkQonG_",
        "outputId": "aab1c342-ecdd-4d86-8eae-742e15e43854"
      },
      "execution_count": null,
      "outputs": [
        {
          "output_type": "stream",
          "name": "stdout",
          "text": [
            "Requirement already satisfied: scikeras in /usr/local/lib/python3.10/dist-packages (0.13.0)\n",
            "Requirement already satisfied: keras>=3.2.0 in /usr/local/lib/python3.10/dist-packages (from scikeras) (3.5.0)\n",
            "Requirement already satisfied: scikit-learn>=1.4.2 in /usr/local/lib/python3.10/dist-packages (from scikeras) (1.5.1)\n",
            "Requirement already satisfied: absl-py in /usr/local/lib/python3.10/dist-packages (from keras>=3.2.0->scikeras) (1.4.0)\n",
            "Requirement already satisfied: numpy in /usr/local/lib/python3.10/dist-packages (from keras>=3.2.0->scikeras) (1.25.2)\n",
            "Requirement already satisfied: rich in /usr/local/lib/python3.10/dist-packages (from keras>=3.2.0->scikeras) (13.7.1)\n",
            "Requirement already satisfied: namex in /usr/local/lib/python3.10/dist-packages (from keras>=3.2.0->scikeras) (0.0.8)\n",
            "Requirement already satisfied: h5py in /usr/local/lib/python3.10/dist-packages (from keras>=3.2.0->scikeras) (3.9.0)\n",
            "Requirement already satisfied: optree in /usr/local/lib/python3.10/dist-packages (from keras>=3.2.0->scikeras) (0.12.1)\n",
            "Requirement already satisfied: ml-dtypes in /usr/local/lib/python3.10/dist-packages (from keras>=3.2.0->scikeras) (0.2.0)\n",
            "Requirement already satisfied: packaging in /usr/local/lib/python3.10/dist-packages (from keras>=3.2.0->scikeras) (24.1)\n",
            "Requirement already satisfied: scipy>=1.6.0 in /usr/local/lib/python3.10/dist-packages (from scikit-learn>=1.4.2->scikeras) (1.11.4)\n",
            "Requirement already satisfied: joblib>=1.2.0 in /usr/local/lib/python3.10/dist-packages (from scikit-learn>=1.4.2->scikeras) (1.4.2)\n",
            "Requirement already satisfied: threadpoolctl>=3.1.0 in /usr/local/lib/python3.10/dist-packages (from scikit-learn>=1.4.2->scikeras) (3.5.0)\n",
            "Requirement already satisfied: typing-extensions>=4.5.0 in /usr/local/lib/python3.10/dist-packages (from optree->keras>=3.2.0->scikeras) (4.12.2)\n",
            "Requirement already satisfied: markdown-it-py>=2.2.0 in /usr/local/lib/python3.10/dist-packages (from rich->keras>=3.2.0->scikeras) (3.0.0)\n",
            "Requirement already satisfied: pygments<3.0.0,>=2.13.0 in /usr/local/lib/python3.10/dist-packages (from rich->keras>=3.2.0->scikeras) (2.16.1)\n",
            "Requirement already satisfied: mdurl~=0.1 in /usr/local/lib/python3.10/dist-packages (from markdown-it-py>=2.2.0->rich->keras>=3.2.0->scikeras) (0.1.2)\n"
          ]
        }
      ]
    },
    {
      "cell_type": "code",
      "execution_count": null,
      "metadata": {
        "id": "EGGqFIItYhQU"
      },
      "outputs": [],
      "source": [
        "import pandas as pd\n",
        "import os\n",
        "\n",
        "import matplotlib.pyplot as plt\n",
        "import seaborn as sns\n",
        "\n",
        "from textblob import TextBlob #to use for sentiment analysis\n",
        "from wordcloud import WordCloud"
      ]
    },
    {
      "cell_type": "markdown",
      "metadata": {
        "id": "2UKR6eCvz1BI"
      },
      "source": [
        "# Understanding and Preprocessing"
      ]
    },
    {
      "cell_type": "markdown",
      "metadata": {
        "id": "tsgmJYNLhmBx"
      },
      "source": [
        "## Mount it to Google Drive"
      ]
    },
    {
      "cell_type": "code",
      "execution_count": null,
      "metadata": {
        "colab": {
          "base_uri": "https://localhost:8080/"
        },
        "id": "GwVskm-ehxmf",
        "outputId": "828bdf98-80db-45a1-911c-ca5ef73759a2"
      },
      "outputs": [
        {
          "output_type": "stream",
          "name": "stdout",
          "text": [
            "Drive already mounted at /content/drive; to attempt to forcibly remount, call drive.mount(\"/content/drive\", force_remount=True).\n"
          ]
        }
      ],
      "source": [
        "from google.colab import drive\n",
        "drive.mount('/content/drive')"
      ]
    },
    {
      "cell_type": "code",
      "execution_count": null,
      "metadata": {
        "id": "6ETgVpnkcA8U"
      },
      "outputs": [],
      "source": [
        "# Specify the path to the directory where your CSV files are stored\n",
        "main_directory = '/content/drive/My Drive/datasets/Fakenews_dataset'\n",
        "\n",
        "# Load PolitiFact CSV files\n",
        "politifact_mf = pd.read_csv(os.path.join(main_directory, 'politifact_MF.csv'))\n",
        "politifact_hf = pd.read_csv(os.path.join(main_directory, 'politifact_HF.csv'))\n",
        "politifact_mr = pd.read_csv(os.path.join(main_directory, 'politifact_MR.csv'))\n",
        "politifact_hr = pd.read_csv(os.path.join(main_directory, 'politifact_HR.csv'))\n",
        "\n",
        "# Load GossipCop CSV files\n",
        "gossipcop_mf = pd.read_csv(os.path.join(main_directory, 'gossipcop_MF.csv'))\n",
        "gossipcop_hf = pd.read_csv(os.path.join(main_directory, 'gossipcop_HF.csv'))\n",
        "gossipcop_mr = pd.read_csv(os.path.join(main_directory, 'gossipcop_MR.csv'))\n",
        "gossipcop_hr = pd.read_csv(os.path.join(main_directory, 'gossipcop_HR.csv'))"
      ]
    },
    {
      "cell_type": "markdown",
      "metadata": {
        "id": "VGr52T4sc6W-"
      },
      "source": [
        "## Explore the Data (EDA)"
      ]
    },
    {
      "cell_type": "code",
      "execution_count": null,
      "metadata": {
        "colab": {
          "base_uri": "https://localhost:8080/"
        },
        "id": "JZFm5t_UmhNP",
        "outputId": "1f3d5770-d2c1-4af0-de27-7a09a8ffdb73"
      },
      "outputs": [
        {
          "output_type": "stream",
          "name": "stdout",
          "text": [
            "First 5 rows of PolitiFact MF:\n",
            "                id                                        description  \\\n",
            "0  politifact11773  Republican attacks on transgendered Americans ...   \n",
            "1  politifact13827  Whoopi Goldberg is in hot water after comments...   \n",
            "2  politifact13570  Washington, DC — A former Secret Service agent...   \n",
            "3  politifact14947  Bill Clinton’s hitman has confessed to more th...   \n",
            "4  politifact14517  Scott&#8217;s prognosis isn&#8217;t good. (via...   \n",
            "\n",
            "                                                text  \\\n",
            "0  inia State Representative Mark Cole's proposed...   \n",
            "1  Whoopi Goldberg has found herself in the middl...   \n",
            "2  A former Secret Service agent has written a ne...   \n",
            "3  In what appears to be a major blow to the cred...   \n",
            "4  In a shocking turn of events, Florida Governor...   \n",
            "\n",
            "                                               title  \n",
            "0  Virginia Republican Introduces Controversial B...  \n",
            "1  Whoopi Goldberg Faces Backlash for Disrespectf...  \n",
            "2  Former Secret Service Agent Exposes Shocking S...  \n",
            "3  Hannity Issues Retraction on False Story: Bill...  \n",
            "4  Florida Governor Rick Scott Miraculously Recov...  \n",
            "\n",
            "==================================================\n",
            "\n",
            "First 5 rows of PolitiFact HF:\n",
            "                id                                        description  \\\n",
            "0  politifact11773  Republican attacks on transgendered Americans ...   \n",
            "1  politifact13827  Whoopi Goldberg is in hot water after comments...   \n",
            "2  politifact13570  Washington, DC — A former Secret Service agent...   \n",
            "3  politifact14947  Bill Clinton’s hitman has confessed to more th...   \n",
            "4  politifact14517  Scott&#8217;s prognosis isn&#8217;t good. (via...   \n",
            "\n",
            "                                                text  \\\n",
            "0  Republican attacks on transgendered Americans ...   \n",
            "1  Whoopi Goldberg is in hot water after comments...   \n",
            "2  Washington, DC — A former Secret Service agent...   \n",
            "3  Bill Clinton’s hitman has confessed to more th...   \n",
            "4  About Trendolizer™\\n\\nTrendolizer™ (patent pen...   \n",
            "\n",
            "                                               title  \n",
            "0  Virginia Republican Wants Schools To Check Chi...  \n",
            "1  Whoopi Goldberg: Navy SEAL Widow was “Looking ...  \n",
            "2  Secret Service Agent Says Obama Is Muslim & Ga...  \n",
            "3  Bill Clinton’s Hitman Confesses On His Deathbe...  \n",
            "4  UPDATE: Florida Governor Rick Scott Now Listed...  \n",
            "\n",
            "==================================================\n",
            "\n",
            "First 5 rows of PolitiFact MR:\n",
            "                id                                        description  \\\n",
            "0   politifact8769  Track federal legislation with expert policy a...   \n",
            "1  politifact12052  Washington Post reporters add insight and anal...   \n",
            "2   politifact4858                       Yup, Mitt vs Mitt aja. Rame!   \n",
            "3  politifact10945  Hillary Clinton held the first major rally of ...   \n",
            "4  politifact14511  New York Attorney General Eric Schneiderman ta...   \n",
            "\n",
            "                                                text  \\\n",
            "0  The Award-Winning, Nonpartisan Intel You Can T...   \n",
            "1  At the CNN debate in Miami, GOP candidates spa...   \n",
            "2  It's that time of year again - white elephant ...   \n",
            "3  Hillary Clinton officially launched her presid...   \n",
            "4  A new lawsuit has been filed against former Pr...   \n",
            "\n",
            "                                               title  \n",
            "0  Introducing CQ: Your Trusted Legislative Track...  \n",
            "1  The CNN Miami Republican debate transcript, an...  \n",
            "2  Fun White Elephant Gift Ideas That Are Afforda...  \n",
            "3  Hillary Clinton Announces Presidential Campaig...  \n",
            "4  'Discriminatory Animus': Lawsuit Filed Against...  \n",
            "\n",
            "==================================================\n",
            "\n",
            "First 5 rows of PolitiFact HR:\n",
            "                id                                        description  \\\n",
            "0   politifact8769  Track federal legislation with expert policy a...   \n",
            "1  politifact12052  Washington Post reporters add insight and anal...   \n",
            "2   politifact4858                       Yup, Mitt vs Mitt aja. Rame!   \n",
            "3  politifact10945  Hillary Clinton held the first major rally of ...   \n",
            "4  politifact14511  New York Attorney General Eric Schneiderman ta...   \n",
            "\n",
            "                                                text  \\\n",
            "0  The award-winning, nonpartisan intel you can t...   \n",
            "1  At the CNN debate in Miami, GOP candidates spa...   \n",
            "2  It’s that time of year again – white elephant ...   \n",
            "3  Thank you! Oh, thank you all! Thank you so ver...   \n",
            "4  Maddow on Trump indictment: 'He knew it was wr...   \n",
            "\n",
            "                                               title  \n",
            "0                      Legislative Tracking Software  \n",
            "1  The CNN Miami Republican debate transcript, an...  \n",
            "2                                        Mitt v Mitt  \n",
            "3  Hillary Clinton Transcript: Read Full Text of ...  \n",
            "4        'Discriminatory animus': Trump sued on DACA  \n",
            "\n",
            "==================================================\n",
            "\n",
            "First 5 rows of GossipCop MF:\n",
            "                     id                                               text  \\\n",
            "0  gossipcop-1991455469  Excitement and anticipation are in the air as ...   \n",
            "1  gossipcop-7798039260  In the wake of Kim Kardashian's traumatic Pari...   \n",
            "2  gossipcop-7817725290  uke and Duchess of Sussex, Prince Harry and Me...   \n",
            "3  gossipcop-5111151830  In a surprise turn of events, former President...   \n",
            "4  gossipcop-9658632569  In an unexpected turn of events, Hollywood act...   \n",
            "\n",
            "                                               title  \\\n",
            "0  Royal Family prepares to welcome modern bride ...   \n",
            "1  Kim and Kanye's At-Home Panic Room Sparks Outr...   \n",
            "2  £1.4 Million Renovation for Prince Harry and M...   \n",
            "3  Former President Obama and Beyoncé grace the D...   \n",
            "4  Jennifer Garner Caught Banning Lindsay Shookus...   \n",
            "\n",
            "                                         description  \n",
            "0         The wedding will take place in spring 2018  \n",
            "1  'Keeping the kids safe is the couples number o...  \n",
            "2  Prince Harry and Meghan might not be living in...  \n",
            "3  Photos from Dancing With the Stars: Special Gu...  \n",
            "4  Jennifer Garner ‘doesn’t want’ her three kids ...  \n",
            "\n",
            "==================================================\n",
            "\n",
            "First 5 rows of GossipCop HF:\n",
            "                     id                                               text  \\\n",
            "0  gossipcop-1991455469  ✕ Close Meghan Markle and Prince Harry have an...   \n",
            "1  gossipcop-7798039260  Kim Kardashian and Kanye West are pulling out ...   \n",
            "2  gossipcop-7817725290  Prince Harry and Meghan currently live at Kens...   \n",
            "3  gossipcop-5111151830  They can't get enough of the Biebs on this sho...   \n",
            "4  gossipcop-9658632569  Ben Affleck is keeping life with his three kid...   \n",
            "\n",
            "                                               title  \\\n",
            "0  As it happened: Prince Harry and Meghan Markle...   \n",
            "1  Kim & Kanye Install At-Home Panic Room After P...   \n",
            "2  £1.4million spent renovating Prince Harry and ...   \n",
            "3  Photos from Dancing With the Stars: Special Gu...   \n",
            "4  Jennifer Garner ‘Doesn’t Want’ Her Kids Around...   \n",
            "\n",
            "                                         description  \n",
            "0         The wedding will take place in spring 2018  \n",
            "1  'Keeping the kids safe is the couples number o...  \n",
            "2  Prince Harry and Meghan might not be living in...  \n",
            "3  Photos from Dancing With the Stars: Special Gu...  \n",
            "4  Jennifer Garner ‘doesn’t want’ her three kids ...  \n",
            "\n",
            "==================================================\n",
            "\n",
            "First 5 rows of GossipCop MR:\n",
            "                 id                                               text  \\\n",
            "0  gossipcop-951329  With summer just around the corner, it's the p...   \n",
            "1  gossipcop-861360  Charrisse Jackson Jordan, an American reality ...   \n",
            "2  gossipcop-911046  Warning: This story contains major spoilers fr...   \n",
            "3  gossipcop-899120  The Pima County Office of the Medical Examiner...   \n",
            "4  gossipcop-919455  Goop is kicking off its weekly podcast in a bi...   \n",
            "\n",
            "                                               title  \\\n",
            "0  11 Summer Camp Movies That'll Make You Nostalg...   \n",
            "1                 Charrisse Jackson Jordan Net Worth   \n",
            "2  Raúl Esparza Exits Law & Order: SVU After Six ...   \n",
            "3                 Lil Peep's Cause of Death Revealed   \n",
            "4  Gwyneth Paltrow, Oprah Discuss Weinstein and #...   \n",
            "\n",
            "                                         description  \n",
            "0  Nothing says summer like watching a movie all ...  \n",
            "1      What is Charrisse Jackson Jordan's net worth?  \n",
            "2  The actor reveals why he decided to leave the ...  \n",
            "3  Pima County Office of the Medical Examiner con...  \n",
            "4  Goop is kicking off its weekly podcast in a bi...  \n",
            "\n",
            "==================================================\n",
            "\n",
            "First 5 rows of GossipCop HR:\n",
            "                 id                                               text  \\\n",
            "0  gossipcop-951329  11 Summer Camp Movies That'll Make You Nostalg...   \n",
            "1  gossipcop-861360  Info Category: Richest Business › Executives N...   \n",
            "2  gossipcop-911046  Warning: This story contains major spoilers fr...   \n",
            "3  gossipcop-899120  Lil Peep died of an overdose of fentanyl and g...   \n",
            "4  gossipcop-919455  Goop is kicking off its weekly podcast in a bi...   \n",
            "\n",
            "                                               title  \\\n",
            "0  11 Summer Camp Movies That'll Make You Nostalg...   \n",
            "1                 Charrisse Jackson Jordan Net Worth   \n",
            "2  Raúl Esparza exits Law & Order: SVU after six ...   \n",
            "3                   Lil Peep Cause of Death Revealed   \n",
            "4  Gwyneth Paltrow, Oprah talk Weinstein, #MeToo’...   \n",
            "\n",
            "                                         description  \n",
            "0  Nothing says summer like watching a movie all ...  \n",
            "1      What is Charrisse Jackson Jordan's net worth?  \n",
            "2  The actor reveals why he decided to leave the ...  \n",
            "3  Pima County Office of the Medical Examiner con...  \n",
            "4  Goop is kicking off its weekly podcast in a bi...  \n",
            "\n",
            "==================================================\n",
            "\n"
          ]
        }
      ],
      "source": [
        "def display_heads(datasets, n=5):\n",
        "    for name, df in datasets.items():\n",
        "        print(f\"First {n} rows of {name}:\")\n",
        "        print(df.head(n))\n",
        "        print(\"\\n\" + \"=\"*50 + \"\\n\")\n",
        "\n",
        "\n",
        "# Store datasets in a dictionary\n",
        "datasets = {\n",
        "    'PolitiFact MF': politifact_mf,\n",
        "    'PolitiFact HF': politifact_hf,\n",
        "    'PolitiFact MR': politifact_mr,\n",
        "    'PolitiFact HR': politifact_hr,\n",
        "    'GossipCop MF': gossipcop_mf,\n",
        "    'GossipCop HF': gossipcop_hf,\n",
        "    'GossipCop MR': gossipcop_mr,\n",
        "    'GossipCop HR': gossipcop_hr\n",
        "}\n",
        "\n",
        "# Display the first few rows of each dataset\n",
        "display_heads(datasets)"
      ]
    },
    {
      "cell_type": "code",
      "execution_count": null,
      "metadata": {
        "colab": {
          "base_uri": "https://localhost:8080/"
        },
        "id": "eK3ZEfUincZO",
        "outputId": "2634a291-50fc-478b-8c85-c00dbb6805d5"
      },
      "outputs": [
        {
          "output_type": "stream",
          "name": "stdout",
          "text": [
            "Information about PolitiFact MF:\n",
            "<class 'pandas.core.frame.DataFrame'>\n",
            "RangeIndex: 97 entries, 0 to 96\n",
            "Data columns (total 4 columns):\n",
            " #   Column       Non-Null Count  Dtype \n",
            "---  ------       --------------  ----- \n",
            " 0   id           97 non-null     object\n",
            " 1   description  97 non-null     object\n",
            " 2   text         97 non-null     object\n",
            " 3   title        97 non-null     object\n",
            "dtypes: object(4)\n",
            "memory usage: 3.2+ KB\n",
            "\n",
            "==================================================\n",
            "\n",
            "Information about PolitiFact HF:\n",
            "<class 'pandas.core.frame.DataFrame'>\n",
            "RangeIndex: 97 entries, 0 to 96\n",
            "Data columns (total 4 columns):\n",
            " #   Column       Non-Null Count  Dtype \n",
            "---  ------       --------------  ----- \n",
            " 0   id           97 non-null     object\n",
            " 1   description  97 non-null     object\n",
            " 2   text         97 non-null     object\n",
            " 3   title        97 non-null     object\n",
            "dtypes: object(4)\n",
            "memory usage: 3.2+ KB\n",
            "\n",
            "==================================================\n",
            "\n",
            "Information about PolitiFact MR:\n",
            "<class 'pandas.core.frame.DataFrame'>\n",
            "RangeIndex: 132 entries, 0 to 131\n",
            "Data columns (total 4 columns):\n",
            " #   Column       Non-Null Count  Dtype \n",
            "---  ------       --------------  ----- \n",
            " 0   id           132 non-null    object\n",
            " 1   description  132 non-null    object\n",
            " 2   text         132 non-null    object\n",
            " 3   title        132 non-null    object\n",
            "dtypes: object(4)\n",
            "memory usage: 4.2+ KB\n",
            "\n",
            "==================================================\n",
            "\n",
            "Information about PolitiFact HR:\n",
            "<class 'pandas.core.frame.DataFrame'>\n",
            "RangeIndex: 194 entries, 0 to 193\n",
            "Data columns (total 4 columns):\n",
            " #   Column       Non-Null Count  Dtype \n",
            "---  ------       --------------  ----- \n",
            " 0   id           194 non-null    object\n",
            " 1   description  194 non-null    object\n",
            " 2   text         194 non-null    object\n",
            " 3   title        193 non-null    object\n",
            "dtypes: object(4)\n",
            "memory usage: 6.2+ KB\n",
            "\n",
            "==================================================\n",
            "\n",
            "Information about GossipCop MF:\n",
            "<class 'pandas.core.frame.DataFrame'>\n",
            "RangeIndex: 4084 entries, 0 to 4083\n",
            "Data columns (total 4 columns):\n",
            " #   Column       Non-Null Count  Dtype \n",
            "---  ------       --------------  ----- \n",
            " 0   id           4084 non-null   object\n",
            " 1   text         4084 non-null   object\n",
            " 2   title        4084 non-null   object\n",
            " 3   description  4084 non-null   object\n",
            "dtypes: object(4)\n",
            "memory usage: 127.8+ KB\n",
            "\n",
            "==================================================\n",
            "\n",
            "Information about GossipCop HF:\n",
            "<class 'pandas.core.frame.DataFrame'>\n",
            "RangeIndex: 4084 entries, 0 to 4083\n",
            "Data columns (total 4 columns):\n",
            " #   Column       Non-Null Count  Dtype \n",
            "---  ------       --------------  ----- \n",
            " 0   id           4084 non-null   object\n",
            " 1   text         4084 non-null   object\n",
            " 2   title        4084 non-null   object\n",
            " 3   description  4084 non-null   object\n",
            "dtypes: object(4)\n",
            "memory usage: 127.8+ KB\n",
            "\n",
            "==================================================\n",
            "\n",
            "Information about GossipCop MR:\n",
            "<class 'pandas.core.frame.DataFrame'>\n",
            "RangeIndex: 4169 entries, 0 to 4168\n",
            "Data columns (total 4 columns):\n",
            " #   Column       Non-Null Count  Dtype \n",
            "---  ------       --------------  ----- \n",
            " 0   id           4169 non-null   object\n",
            " 1   text         4169 non-null   object\n",
            " 2   title        4169 non-null   object\n",
            " 3   description  4169 non-null   object\n",
            "dtypes: object(4)\n",
            "memory usage: 130.4+ KB\n",
            "\n",
            "==================================================\n",
            "\n",
            "Information about GossipCop HR:\n",
            "<class 'pandas.core.frame.DataFrame'>\n",
            "RangeIndex: 8168 entries, 0 to 8167\n",
            "Data columns (total 4 columns):\n",
            " #   Column       Non-Null Count  Dtype \n",
            "---  ------       --------------  ----- \n",
            " 0   id           8168 non-null   object\n",
            " 1   text         8168 non-null   object\n",
            " 2   title        8168 non-null   object\n",
            " 3   description  8168 non-null   object\n",
            "dtypes: object(4)\n",
            "memory usage: 255.4+ KB\n",
            "\n",
            "==================================================\n",
            "\n"
          ]
        }
      ],
      "source": [
        "def display_info(datasets):\n",
        "    for name, df in datasets.items():\n",
        "        print(f\"Information about {name}:\")\n",
        "        df.info()\n",
        "        print(\"\\n\" + \"=\"*50 + \"\\n\")\n",
        "\n",
        "# Display information about each dataset\n",
        "display_info(datasets)"
      ]
    },
    {
      "cell_type": "code",
      "execution_count": null,
      "metadata": {
        "colab": {
          "base_uri": "https://localhost:8080/"
        },
        "id": "K0a_mhqbnsmq",
        "outputId": "85347807-cf52-413a-d4aa-f8b8f69097d9"
      },
      "outputs": [
        {
          "output_type": "stream",
          "name": "stdout",
          "text": [
            "Descriptive statistics for PolitiFact MF:\n",
            "                     id description  \\\n",
            "count                97          97   \n",
            "unique               97          96   \n",
            "top     politifact11773     Tribune   \n",
            "freq                  1           2   \n",
            "\n",
            "                                                     text  \\\n",
            "count                                                  97   \n",
            "unique                                                 97   \n",
            "top     inia State Representative Mark Cole's proposed...   \n",
            "freq                                                    1   \n",
            "\n",
            "                                                    title  \n",
            "count                                                  97  \n",
            "unique                                                 97  \n",
            "top     Virginia Republican Introduces Controversial B...  \n",
            "freq                                                    1  \n",
            "\n",
            "==================================================\n",
            "\n",
            "Descriptive statistics for PolitiFact HF:\n",
            "                     id description  \\\n",
            "count                97          97   \n",
            "unique               97          96   \n",
            "top     politifact11773     Tribune   \n",
            "freq                  1           2   \n",
            "\n",
            "                                                     text  \\\n",
            "count                                                  97   \n",
            "unique                                                 93   \n",
            "top     About Trendolizer™\\n\\nTrendolizer™ (patent pen...   \n",
            "freq                                                    3   \n",
            "\n",
            "                                                    title  \n",
            "count                                                  97  \n",
            "unique                                                 96  \n",
            "top     Historical blog about Seattle, as well as the ...  \n",
            "freq                                                    2  \n",
            "\n",
            "==================================================\n",
            "\n",
            "Descriptive statistics for PolitiFact MR:\n",
            "                     id                                        description  \\\n",
            "count               132                                                132   \n",
            "unique              129                                                123   \n",
            "top     politifact12148  Track federal legislation with expert policy a...   \n",
            "freq                  2                                                  3   \n",
            "\n",
            "                                                     text  \\\n",
            "count                                                 132   \n",
            "unique                                                132   \n",
            "top     The Award-Winning, Nonpartisan Intel You Can T...   \n",
            "freq                                                    1   \n",
            "\n",
            "                                                    title  \n",
            "count                                                 132  \n",
            "unique                                                130  \n",
            "top     Remarks on Counterterrorism at Stanford Univer...  \n",
            "freq                                                    2  \n",
            "\n",
            "==================================================\n",
            "\n",
            "Descriptive statistics for PolitiFact HR:\n",
            "                    id                                        description  \\\n",
            "count              194                                                194   \n",
            "unique             194                                                179   \n",
            "top     politifact8769  Track federal legislation with expert policy a...   \n",
            "freq                 1                                                  4   \n",
            "\n",
            "                                                     text  \\\n",
            "count                                                 194   \n",
            "unique                                                179   \n",
            "top     The award-winning, nonpartisan intel you can t...   \n",
            "freq                                                    4   \n",
            "\n",
            "                                title  \n",
            "count                             193  \n",
            "unique                            179  \n",
            "top     Legislative Tracking Software  \n",
            "freq                                4  \n",
            "\n",
            "==================================================\n",
            "\n",
            "Descriptive statistics for GossipCop MF:\n",
            "                          id  \\\n",
            "count                   4084   \n",
            "unique                  4084   \n",
            "top     gossipcop-1991455469   \n",
            "freq                       1   \n",
            "\n",
            "                                                     text  \\\n",
            "count                                                4084   \n",
            "unique                                               4084   \n",
            "top     Excitement and anticipation are in the air as ...   \n",
            "freq                                                    1   \n",
            "\n",
            "                                                    title  \\\n",
            "count                                                4084   \n",
            "unique                                               4074   \n",
            "top     Brad Pitt and Jennifer Aniston 'busted' over A...   \n",
            "freq                                                    2   \n",
            "\n",
            "                                              description  \n",
            "count                                                4084  \n",
            "unique                                               3535  \n",
            "top     IMDb, the world's most popular and authoritati...  \n",
            "freq                                                  124  \n",
            "\n",
            "==================================================\n",
            "\n",
            "Descriptive statistics for GossipCop HF:\n",
            "                          id  \\\n",
            "count                   4084   \n",
            "unique                  4084   \n",
            "top     gossipcop-1991455469   \n",
            "freq                       1   \n",
            "\n",
            "                                                     text            title  \\\n",
            "count                                                4084             4084   \n",
            "unique                                               3590             3661   \n",
            "top     *\\n\\nPlease note that this form cannot be used...  In Touch Weekly   \n",
            "freq                                                   73               69   \n",
            "\n",
            "                                              description  \n",
            "count                                                4084  \n",
            "unique                                               3535  \n",
            "top     IMDb, the world's most popular and authoritati...  \n",
            "freq                                                  124  \n",
            "\n",
            "==================================================\n",
            "\n",
            "Descriptive statistics for GossipCop MR:\n",
            "                      id                                               text  \\\n",
            "count               4169                                               4169   \n",
            "unique              4169                                               4167   \n",
            "top     gossipcop-951329  ctions/Clarifications: An earlier version of t...   \n",
            "freq                   1                                                  3   \n",
            "\n",
            "                      title                                        description  \n",
            "count                  4169                                               4169  \n",
            "unique                 4115                                               3986  \n",
            "top     World Today Journal  WomanS Tale - News from the world of fashion, ...  \n",
            "freq                      6                                                 30  \n",
            "\n",
            "==================================================\n",
            "\n",
            "Descriptive statistics for GossipCop HR:\n",
            "                      id                                               text  \\\n",
            "count               8168                                               8168   \n",
            "unique              8168                                               7585   \n",
            "top     gossipcop-951329  A big swirling bucket of the latest rumors, ce...   \n",
            "freq                   1                                                 41   \n",
            "\n",
            "                                                    title  \\\n",
            "count                                                8168   \n",
            "unique                                               7768   \n",
            "top     Breaking News from the world Celebrities, Fash...   \n",
            "freq                                                   58   \n",
            "\n",
            "                                              description  \n",
            "count                                                8168  \n",
            "unique                                               7727  \n",
            "top     WomanS Tale - News from the world of fashion, ...  \n",
            "freq                                                   58  \n",
            "\n",
            "==================================================\n",
            "\n"
          ]
        }
      ],
      "source": [
        "def display_descriptions(datasets):\n",
        "    for name, df in datasets.items():\n",
        "        print(f\"Descriptive statistics for {name}:\")\n",
        "        print(df.describe(include='all'))\n",
        "        print(\"\\n\" + \"=\"*50 + \"\\n\")\n",
        "\n",
        "# Display descriptive statistics for each dataset\n",
        "display_descriptions(datasets)"
      ]
    },
    {
      "cell_type": "markdown",
      "metadata": {
        "id": "xAREK_X1oywp"
      },
      "source": [
        "#### Missing values"
      ]
    },
    {
      "cell_type": "code",
      "execution_count": null,
      "metadata": {
        "colab": {
          "base_uri": "https://localhost:8080/"
        },
        "id": "Ke7yVNlAn-J6",
        "outputId": "f2638ba1-8ef0-4a34-d6ec-fc6138c81d49"
      },
      "outputs": [
        {
          "output_type": "stream",
          "name": "stdout",
          "text": [
            "Missing values in PolitiFact MF:\n",
            "Series([], dtype: int64)\n",
            "\n",
            "==================================================\n",
            "\n",
            "Missing values in PolitiFact HF:\n",
            "Series([], dtype: int64)\n",
            "\n",
            "==================================================\n",
            "\n",
            "Missing values in PolitiFact MR:\n",
            "Series([], dtype: int64)\n",
            "\n",
            "==================================================\n",
            "\n",
            "Missing values in PolitiFact HR:\n",
            "title    1\n",
            "dtype: int64\n",
            "\n",
            "==================================================\n",
            "\n",
            "Missing values in GossipCop MF:\n",
            "Series([], dtype: int64)\n",
            "\n",
            "==================================================\n",
            "\n",
            "Missing values in GossipCop HF:\n",
            "Series([], dtype: int64)\n",
            "\n",
            "==================================================\n",
            "\n",
            "Missing values in GossipCop MR:\n",
            "Series([], dtype: int64)\n",
            "\n",
            "==================================================\n",
            "\n",
            "Missing values in GossipCop HR:\n",
            "Series([], dtype: int64)\n",
            "\n",
            "==================================================\n",
            "\n"
          ]
        }
      ],
      "source": [
        "def display_missing_values(datasets):\n",
        "    for name, df in datasets.items():\n",
        "        print(f\"Missing values in {name}:\")\n",
        "        missing_values = df.isnull().sum()\n",
        "        print(missing_values[missing_values > 0])  # Display only columns with missing values\n",
        "        print(\"\\n\" + \"=\"*50 + \"\\n\")\n",
        "\n",
        "# Display missing values for each dataset\n",
        "display_missing_values(datasets)"
      ]
    },
    {
      "cell_type": "code",
      "execution_count": null,
      "metadata": {
        "id": "bVSfdcXgop6g"
      },
      "outputs": [],
      "source": [
        "# Dropping the NA value\n",
        "politifact_hr.dropna(subset=['title'], inplace=True)"
      ]
    },
    {
      "cell_type": "markdown",
      "metadata": {
        "id": "4qFDNQMYqsW9"
      },
      "source": [
        "## Combined df"
      ]
    },
    {
      "cell_type": "markdown",
      "metadata": {
        "id": "Y2ujpSEIsl5z"
      },
      "source": [
        "### Feature Engineering"
      ]
    },
    {
      "cell_type": "code",
      "execution_count": null,
      "metadata": {
        "colab": {
          "base_uri": "https://localhost:8080/"
        },
        "id": "Y2dRkybHsDvW",
        "outputId": "a7e047da-2a3c-4f3e-ae9f-5b25ae50084a"
      },
      "outputs": [
        {
          "output_type": "stream",
          "name": "stdout",
          "text": [
            "                id                                        description  \\\n",
            "0  politifact11773  Republican attacks on transgendered Americans ...   \n",
            "1  politifact13827  Whoopi Goldberg is in hot water after comments...   \n",
            "2  politifact13570  Washington, DC — A former Secret Service agent...   \n",
            "3  politifact14947  Bill Clinton’s hitman has confessed to more th...   \n",
            "4  politifact14517  Scott&#8217;s prognosis isn&#8217;t good. (via...   \n",
            "\n",
            "                                                text  \\\n",
            "0  inia State Representative Mark Cole's proposed...   \n",
            "1  Whoopi Goldberg has found herself in the middl...   \n",
            "2  A former Secret Service agent has written a ne...   \n",
            "3  In what appears to be a major blow to the cred...   \n",
            "4  In a shocking turn of events, Florida Governor...   \n",
            "\n",
            "                                               title    platform  \\\n",
            "0  Virginia Republican Introduces Controversial B...  PolitiFact   \n",
            "1  Whoopi Goldberg Faces Backlash for Disrespectf...  PolitiFact   \n",
            "2  Former Secret Service Agent Exposes Shocking S...  PolitiFact   \n",
            "3  Hannity Issues Retraction on False Story: Bill...  PolitiFact   \n",
            "4  Florida Governor Rick Scott Miraculously Recov...  PolitiFact   \n",
            "\n",
            "          source label  \n",
            "0  LLM Generated  Fake  \n",
            "1  LLM Generated  Fake  \n",
            "2  LLM Generated  Fake  \n",
            "3  LLM Generated  Fake  \n",
            "4  LLM Generated  Fake  \n",
            "platform\n",
            "GossipCop     20505\n",
            "PolitiFact      519\n",
            "Name: count, dtype: int64\n",
            "source\n",
            "Human Written    12542\n",
            "LLM Generated     8482\n",
            "Name: count, dtype: int64\n",
            "label\n",
            "Real    12662\n",
            "Fake     8362\n",
            "Name: count, dtype: int64\n"
          ]
        }
      ],
      "source": [
        "import pandas as pd\n",
        "\n",
        "# Assuming your datasets are already loaded as DataFrames\n",
        "# Assign labels and sources based on your description\n",
        "datasets = {\n",
        "    'PolitiFact MF': (politifact_mf, 'PolitiFact', 'LLM Generated', 'Fake'),\n",
        "    'PolitiFact HF': (politifact_hf, 'PolitiFact', 'Human Written', 'Fake'),\n",
        "    'PolitiFact MR': (politifact_mr, 'PolitiFact', 'LLM Generated', 'Real'),\n",
        "    'PolitiFact HR': (politifact_hr, 'PolitiFact', 'Human Written', 'Real'),\n",
        "    'GossipCop MF': (gossipcop_mf, 'GossipCop', 'LLM Generated', 'Fake'),\n",
        "    'GossipCop HF': (gossipcop_hf, 'GossipCop', 'Human Written', 'Fake'),\n",
        "    'GossipCop MR': (gossipcop_mr, 'GossipCop', 'LLM Generated', 'Real'),\n",
        "    'GossipCop HR': (gossipcop_hr, 'GossipCop', 'Human Written', 'Real')\n",
        "}\n",
        "\n",
        "# List to hold all dataframes with additional columns\n",
        "df_list = []\n",
        "\n",
        "# Iterate over datasets to add the 'platform', 'source', and 'label' columns\n",
        "for name, (df, platform, source, label) in datasets.items():\n",
        "    df = df.copy()  # Avoid modifying the original data\n",
        "    df['platform'] = platform\n",
        "    df['source'] = source\n",
        "    df['label'] = label\n",
        "    df_list.append(df)\n",
        "\n",
        "# Concatenate all datasets into a single DataFrame\n",
        "combined_df = pd.concat(df_list, ignore_index=True)\n",
        "\n",
        "# Display the first few rows of the combined DataFrame to verify\n",
        "print(combined_df.head())\n",
        "print(combined_df['platform'].value_counts())\n",
        "print(combined_df['source'].value_counts())\n",
        "print(combined_df['label'].value_counts())\n"
      ]
    },
    {
      "cell_type": "code",
      "execution_count": null,
      "metadata": {
        "colab": {
          "base_uri": "https://localhost:8080/",
          "height": 788
        },
        "id": "JIfoRwucY7o0",
        "outputId": "e8d0c462-27b2-42b3-f1c4-c69f0d21dc31"
      },
      "outputs": [
        {
          "output_type": "execute_result",
          "data": {
            "text/plain": [
              "                     id                                        description  \\\n",
              "0       politifact11773  Republican attacks on transgendered Americans ...   \n",
              "1       politifact13827  Whoopi Goldberg is in hot water after comments...   \n",
              "2       politifact13570  Washington, DC — A former Secret Service agent...   \n",
              "3       politifact14947  Bill Clinton’s hitman has confessed to more th...   \n",
              "4       politifact14517  Scott&#8217;s prognosis isn&#8217;t good. (via...   \n",
              "...                 ...                                                ...   \n",
              "21019  gossipcop-875489  From hand-baked clay tiles to LED lights that ...   \n",
              "21020  gossipcop-844263  Gilmore Girls: A Year in the Life made its Net...   \n",
              "21021  gossipcop-917467  On Sunday Fox aired “O.J. Simpson: The Lost Co...   \n",
              "21022  gossipcop-924877  Just when you thought this season of Vanderpum...   \n",
              "21023  gossipcop-897086  Video from 2012 shows the former \"Today\" host ...   \n",
              "\n",
              "                                                    text  \\\n",
              "0      inia State Representative Mark Cole's proposed...   \n",
              "1      Whoopi Goldberg has found herself in the middl...   \n",
              "2      A former Secret Service agent has written a ne...   \n",
              "3      In what appears to be a major blow to the cred...   \n",
              "4      In a shocking turn of events, Florida Governor...   \n",
              "...                                                  ...   \n",
              "21019  For free real time breaking news alerts sent s...   \n",
              "21020  Gilmore Girls: A Year in the Life made its Net...   \n",
              "21021  Why Is It Airing Now?\\n\\nAccording to the exec...   \n",
              "21022  Just when you thought this season of Vanderpum...   \n",
              "21023  A cringeworthy video of Katie Couric talking a...   \n",
              "\n",
              "                                                   title    platform  \\\n",
              "0      Virginia Republican Introduces Controversial B...  PolitiFact   \n",
              "1      Whoopi Goldberg Faces Backlash for Disrespectf...  PolitiFact   \n",
              "2      Former Secret Service Agent Exposes Shocking S...  PolitiFact   \n",
              "3      Hannity Issues Retraction on False Story: Bill...  PolitiFact   \n",
              "4      Florida Governor Rick Scott Miraculously Recov...  PolitiFact   \n",
              "...                                                  ...         ...   \n",
              "21019     The top interior design trends for millennials   GossipCop   \n",
              "21020  Gilmore Girls Video: Lauren Graham, Alexis Ble...   GossipCop   \n",
              "21021  The O.J. Simpson Interview on Fox: Gripping, G...   GossipCop   \n",
              "21022  Kristen Doute and James Kennedy Hooked Up Rumo...   GossipCop   \n",
              "21023  Katie Couric Once Said Matt Lauer 'Pinches Me ...   GossipCop   \n",
              "\n",
              "              source label  \n",
              "0      LLM Generated  Fake  \n",
              "1      LLM Generated  Fake  \n",
              "2      LLM Generated  Fake  \n",
              "3      LLM Generated  Fake  \n",
              "4      LLM Generated  Fake  \n",
              "...              ...   ...  \n",
              "21019  Human Written  Real  \n",
              "21020  Human Written  Real  \n",
              "21021  Human Written  Real  \n",
              "21022  Human Written  Real  \n",
              "21023  Human Written  Real  \n",
              "\n",
              "[21024 rows x 7 columns]"
            ],
            "text/html": [
              "\n",
              "  <div id=\"df-dc18a92e-049b-497e-8c2a-84764d80b65a\" class=\"colab-df-container\">\n",
              "    <div>\n",
              "<style scoped>\n",
              "    .dataframe tbody tr th:only-of-type {\n",
              "        vertical-align: middle;\n",
              "    }\n",
              "\n",
              "    .dataframe tbody tr th {\n",
              "        vertical-align: top;\n",
              "    }\n",
              "\n",
              "    .dataframe thead th {\n",
              "        text-align: right;\n",
              "    }\n",
              "</style>\n",
              "<table border=\"1\" class=\"dataframe\">\n",
              "  <thead>\n",
              "    <tr style=\"text-align: right;\">\n",
              "      <th></th>\n",
              "      <th>id</th>\n",
              "      <th>description</th>\n",
              "      <th>text</th>\n",
              "      <th>title</th>\n",
              "      <th>platform</th>\n",
              "      <th>source</th>\n",
              "      <th>label</th>\n",
              "    </tr>\n",
              "  </thead>\n",
              "  <tbody>\n",
              "    <tr>\n",
              "      <th>0</th>\n",
              "      <td>politifact11773</td>\n",
              "      <td>Republican attacks on transgendered Americans ...</td>\n",
              "      <td>inia State Representative Mark Cole's proposed...</td>\n",
              "      <td>Virginia Republican Introduces Controversial B...</td>\n",
              "      <td>PolitiFact</td>\n",
              "      <td>LLM Generated</td>\n",
              "      <td>Fake</td>\n",
              "    </tr>\n",
              "    <tr>\n",
              "      <th>1</th>\n",
              "      <td>politifact13827</td>\n",
              "      <td>Whoopi Goldberg is in hot water after comments...</td>\n",
              "      <td>Whoopi Goldberg has found herself in the middl...</td>\n",
              "      <td>Whoopi Goldberg Faces Backlash for Disrespectf...</td>\n",
              "      <td>PolitiFact</td>\n",
              "      <td>LLM Generated</td>\n",
              "      <td>Fake</td>\n",
              "    </tr>\n",
              "    <tr>\n",
              "      <th>2</th>\n",
              "      <td>politifact13570</td>\n",
              "      <td>Washington, DC — A former Secret Service agent...</td>\n",
              "      <td>A former Secret Service agent has written a ne...</td>\n",
              "      <td>Former Secret Service Agent Exposes Shocking S...</td>\n",
              "      <td>PolitiFact</td>\n",
              "      <td>LLM Generated</td>\n",
              "      <td>Fake</td>\n",
              "    </tr>\n",
              "    <tr>\n",
              "      <th>3</th>\n",
              "      <td>politifact14947</td>\n",
              "      <td>Bill Clinton’s hitman has confessed to more th...</td>\n",
              "      <td>In what appears to be a major blow to the cred...</td>\n",
              "      <td>Hannity Issues Retraction on False Story: Bill...</td>\n",
              "      <td>PolitiFact</td>\n",
              "      <td>LLM Generated</td>\n",
              "      <td>Fake</td>\n",
              "    </tr>\n",
              "    <tr>\n",
              "      <th>4</th>\n",
              "      <td>politifact14517</td>\n",
              "      <td>Scott&amp;#8217;s prognosis isn&amp;#8217;t good. (via...</td>\n",
              "      <td>In a shocking turn of events, Florida Governor...</td>\n",
              "      <td>Florida Governor Rick Scott Miraculously Recov...</td>\n",
              "      <td>PolitiFact</td>\n",
              "      <td>LLM Generated</td>\n",
              "      <td>Fake</td>\n",
              "    </tr>\n",
              "    <tr>\n",
              "      <th>...</th>\n",
              "      <td>...</td>\n",
              "      <td>...</td>\n",
              "      <td>...</td>\n",
              "      <td>...</td>\n",
              "      <td>...</td>\n",
              "      <td>...</td>\n",
              "      <td>...</td>\n",
              "    </tr>\n",
              "    <tr>\n",
              "      <th>21019</th>\n",
              "      <td>gossipcop-875489</td>\n",
              "      <td>From hand-baked clay tiles to LED lights that ...</td>\n",
              "      <td>For free real time breaking news alerts sent s...</td>\n",
              "      <td>The top interior design trends for millennials</td>\n",
              "      <td>GossipCop</td>\n",
              "      <td>Human Written</td>\n",
              "      <td>Real</td>\n",
              "    </tr>\n",
              "    <tr>\n",
              "      <th>21020</th>\n",
              "      <td>gossipcop-844263</td>\n",
              "      <td>Gilmore Girls: A Year in the Life made its Net...</td>\n",
              "      <td>Gilmore Girls: A Year in the Life made its Net...</td>\n",
              "      <td>Gilmore Girls Video: Lauren Graham, Alexis Ble...</td>\n",
              "      <td>GossipCop</td>\n",
              "      <td>Human Written</td>\n",
              "      <td>Real</td>\n",
              "    </tr>\n",
              "    <tr>\n",
              "      <th>21021</th>\n",
              "      <td>gossipcop-917467</td>\n",
              "      <td>On Sunday Fox aired “O.J. Simpson: The Lost Co...</td>\n",
              "      <td>Why Is It Airing Now?\\n\\nAccording to the exec...</td>\n",
              "      <td>The O.J. Simpson Interview on Fox: Gripping, G...</td>\n",
              "      <td>GossipCop</td>\n",
              "      <td>Human Written</td>\n",
              "      <td>Real</td>\n",
              "    </tr>\n",
              "    <tr>\n",
              "      <th>21022</th>\n",
              "      <td>gossipcop-924877</td>\n",
              "      <td>Just when you thought this season of Vanderpum...</td>\n",
              "      <td>Just when you thought this season of Vanderpum...</td>\n",
              "      <td>Kristen Doute and James Kennedy Hooked Up Rumo...</td>\n",
              "      <td>GossipCop</td>\n",
              "      <td>Human Written</td>\n",
              "      <td>Real</td>\n",
              "    </tr>\n",
              "    <tr>\n",
              "      <th>21023</th>\n",
              "      <td>gossipcop-897086</td>\n",
              "      <td>Video from 2012 shows the former \"Today\" host ...</td>\n",
              "      <td>A cringeworthy video of Katie Couric talking a...</td>\n",
              "      <td>Katie Couric Once Said Matt Lauer 'Pinches Me ...</td>\n",
              "      <td>GossipCop</td>\n",
              "      <td>Human Written</td>\n",
              "      <td>Real</td>\n",
              "    </tr>\n",
              "  </tbody>\n",
              "</table>\n",
              "<p>21024 rows × 7 columns</p>\n",
              "</div>\n",
              "    <div class=\"colab-df-buttons\">\n",
              "\n",
              "  <div class=\"colab-df-container\">\n",
              "    <button class=\"colab-df-convert\" onclick=\"convertToInteractive('df-dc18a92e-049b-497e-8c2a-84764d80b65a')\"\n",
              "            title=\"Convert this dataframe to an interactive table.\"\n",
              "            style=\"display:none;\">\n",
              "\n",
              "  <svg xmlns=\"http://www.w3.org/2000/svg\" height=\"24px\" viewBox=\"0 -960 960 960\">\n",
              "    <path d=\"M120-120v-720h720v720H120Zm60-500h600v-160H180v160Zm220 220h160v-160H400v160Zm0 220h160v-160H400v160ZM180-400h160v-160H180v160Zm440 0h160v-160H620v160ZM180-180h160v-160H180v160Zm440 0h160v-160H620v160Z\"/>\n",
              "  </svg>\n",
              "    </button>\n",
              "\n",
              "  <style>\n",
              "    .colab-df-container {\n",
              "      display:flex;\n",
              "      gap: 12px;\n",
              "    }\n",
              "\n",
              "    .colab-df-convert {\n",
              "      background-color: #E8F0FE;\n",
              "      border: none;\n",
              "      border-radius: 50%;\n",
              "      cursor: pointer;\n",
              "      display: none;\n",
              "      fill: #1967D2;\n",
              "      height: 32px;\n",
              "      padding: 0 0 0 0;\n",
              "      width: 32px;\n",
              "    }\n",
              "\n",
              "    .colab-df-convert:hover {\n",
              "      background-color: #E2EBFA;\n",
              "      box-shadow: 0px 1px 2px rgba(60, 64, 67, 0.3), 0px 1px 3px 1px rgba(60, 64, 67, 0.15);\n",
              "      fill: #174EA6;\n",
              "    }\n",
              "\n",
              "    .colab-df-buttons div {\n",
              "      margin-bottom: 4px;\n",
              "    }\n",
              "\n",
              "    [theme=dark] .colab-df-convert {\n",
              "      background-color: #3B4455;\n",
              "      fill: #D2E3FC;\n",
              "    }\n",
              "\n",
              "    [theme=dark] .colab-df-convert:hover {\n",
              "      background-color: #434B5C;\n",
              "      box-shadow: 0px 1px 3px 1px rgba(0, 0, 0, 0.15);\n",
              "      filter: drop-shadow(0px 1px 2px rgba(0, 0, 0, 0.3));\n",
              "      fill: #FFFFFF;\n",
              "    }\n",
              "  </style>\n",
              "\n",
              "    <script>\n",
              "      const buttonEl =\n",
              "        document.querySelector('#df-dc18a92e-049b-497e-8c2a-84764d80b65a button.colab-df-convert');\n",
              "      buttonEl.style.display =\n",
              "        google.colab.kernel.accessAllowed ? 'block' : 'none';\n",
              "\n",
              "      async function convertToInteractive(key) {\n",
              "        const element = document.querySelector('#df-dc18a92e-049b-497e-8c2a-84764d80b65a');\n",
              "        const dataTable =\n",
              "          await google.colab.kernel.invokeFunction('convertToInteractive',\n",
              "                                                    [key], {});\n",
              "        if (!dataTable) return;\n",
              "\n",
              "        const docLinkHtml = 'Like what you see? Visit the ' +\n",
              "          '<a target=\"_blank\" href=https://colab.research.google.com/notebooks/data_table.ipynb>data table notebook</a>'\n",
              "          + ' to learn more about interactive tables.';\n",
              "        element.innerHTML = '';\n",
              "        dataTable['output_type'] = 'display_data';\n",
              "        await google.colab.output.renderOutput(dataTable, element);\n",
              "        const docLink = document.createElement('div');\n",
              "        docLink.innerHTML = docLinkHtml;\n",
              "        element.appendChild(docLink);\n",
              "      }\n",
              "    </script>\n",
              "  </div>\n",
              "\n",
              "\n",
              "<div id=\"df-cfde877a-4ec6-4705-98ef-a0b428d558ba\">\n",
              "  <button class=\"colab-df-quickchart\" onclick=\"quickchart('df-cfde877a-4ec6-4705-98ef-a0b428d558ba')\"\n",
              "            title=\"Suggest charts\"\n",
              "            style=\"display:none;\">\n",
              "\n",
              "<svg xmlns=\"http://www.w3.org/2000/svg\" height=\"24px\"viewBox=\"0 0 24 24\"\n",
              "     width=\"24px\">\n",
              "    <g>\n",
              "        <path d=\"M19 3H5c-1.1 0-2 .9-2 2v14c0 1.1.9 2 2 2h14c1.1 0 2-.9 2-2V5c0-1.1-.9-2-2-2zM9 17H7v-7h2v7zm4 0h-2V7h2v10zm4 0h-2v-4h2v4z\"/>\n",
              "    </g>\n",
              "</svg>\n",
              "  </button>\n",
              "\n",
              "<style>\n",
              "  .colab-df-quickchart {\n",
              "      --bg-color: #E8F0FE;\n",
              "      --fill-color: #1967D2;\n",
              "      --hover-bg-color: #E2EBFA;\n",
              "      --hover-fill-color: #174EA6;\n",
              "      --disabled-fill-color: #AAA;\n",
              "      --disabled-bg-color: #DDD;\n",
              "  }\n",
              "\n",
              "  [theme=dark] .colab-df-quickchart {\n",
              "      --bg-color: #3B4455;\n",
              "      --fill-color: #D2E3FC;\n",
              "      --hover-bg-color: #434B5C;\n",
              "      --hover-fill-color: #FFFFFF;\n",
              "      --disabled-bg-color: #3B4455;\n",
              "      --disabled-fill-color: #666;\n",
              "  }\n",
              "\n",
              "  .colab-df-quickchart {\n",
              "    background-color: var(--bg-color);\n",
              "    border: none;\n",
              "    border-radius: 50%;\n",
              "    cursor: pointer;\n",
              "    display: none;\n",
              "    fill: var(--fill-color);\n",
              "    height: 32px;\n",
              "    padding: 0;\n",
              "    width: 32px;\n",
              "  }\n",
              "\n",
              "  .colab-df-quickchart:hover {\n",
              "    background-color: var(--hover-bg-color);\n",
              "    box-shadow: 0 1px 2px rgba(60, 64, 67, 0.3), 0 1px 3px 1px rgba(60, 64, 67, 0.15);\n",
              "    fill: var(--button-hover-fill-color);\n",
              "  }\n",
              "\n",
              "  .colab-df-quickchart-complete:disabled,\n",
              "  .colab-df-quickchart-complete:disabled:hover {\n",
              "    background-color: var(--disabled-bg-color);\n",
              "    fill: var(--disabled-fill-color);\n",
              "    box-shadow: none;\n",
              "  }\n",
              "\n",
              "  .colab-df-spinner {\n",
              "    border: 2px solid var(--fill-color);\n",
              "    border-color: transparent;\n",
              "    border-bottom-color: var(--fill-color);\n",
              "    animation:\n",
              "      spin 1s steps(1) infinite;\n",
              "  }\n",
              "\n",
              "  @keyframes spin {\n",
              "    0% {\n",
              "      border-color: transparent;\n",
              "      border-bottom-color: var(--fill-color);\n",
              "      border-left-color: var(--fill-color);\n",
              "    }\n",
              "    20% {\n",
              "      border-color: transparent;\n",
              "      border-left-color: var(--fill-color);\n",
              "      border-top-color: var(--fill-color);\n",
              "    }\n",
              "    30% {\n",
              "      border-color: transparent;\n",
              "      border-left-color: var(--fill-color);\n",
              "      border-top-color: var(--fill-color);\n",
              "      border-right-color: var(--fill-color);\n",
              "    }\n",
              "    40% {\n",
              "      border-color: transparent;\n",
              "      border-right-color: var(--fill-color);\n",
              "      border-top-color: var(--fill-color);\n",
              "    }\n",
              "    60% {\n",
              "      border-color: transparent;\n",
              "      border-right-color: var(--fill-color);\n",
              "    }\n",
              "    80% {\n",
              "      border-color: transparent;\n",
              "      border-right-color: var(--fill-color);\n",
              "      border-bottom-color: var(--fill-color);\n",
              "    }\n",
              "    90% {\n",
              "      border-color: transparent;\n",
              "      border-bottom-color: var(--fill-color);\n",
              "    }\n",
              "  }\n",
              "</style>\n",
              "\n",
              "  <script>\n",
              "    async function quickchart(key) {\n",
              "      const quickchartButtonEl =\n",
              "        document.querySelector('#' + key + ' button');\n",
              "      quickchartButtonEl.disabled = true;  // To prevent multiple clicks.\n",
              "      quickchartButtonEl.classList.add('colab-df-spinner');\n",
              "      try {\n",
              "        const charts = await google.colab.kernel.invokeFunction(\n",
              "            'suggestCharts', [key], {});\n",
              "      } catch (error) {\n",
              "        console.error('Error during call to suggestCharts:', error);\n",
              "      }\n",
              "      quickchartButtonEl.classList.remove('colab-df-spinner');\n",
              "      quickchartButtonEl.classList.add('colab-df-quickchart-complete');\n",
              "    }\n",
              "    (() => {\n",
              "      let quickchartButtonEl =\n",
              "        document.querySelector('#df-cfde877a-4ec6-4705-98ef-a0b428d558ba button');\n",
              "      quickchartButtonEl.style.display =\n",
              "        google.colab.kernel.accessAllowed ? 'block' : 'none';\n",
              "    })();\n",
              "  </script>\n",
              "</div>\n",
              "\n",
              "  <div id=\"id_7ee2c6cb-18d5-4615-b09e-0b157cdf38af\">\n",
              "    <style>\n",
              "      .colab-df-generate {\n",
              "        background-color: #E8F0FE;\n",
              "        border: none;\n",
              "        border-radius: 50%;\n",
              "        cursor: pointer;\n",
              "        display: none;\n",
              "        fill: #1967D2;\n",
              "        height: 32px;\n",
              "        padding: 0 0 0 0;\n",
              "        width: 32px;\n",
              "      }\n",
              "\n",
              "      .colab-df-generate:hover {\n",
              "        background-color: #E2EBFA;\n",
              "        box-shadow: 0px 1px 2px rgba(60, 64, 67, 0.3), 0px 1px 3px 1px rgba(60, 64, 67, 0.15);\n",
              "        fill: #174EA6;\n",
              "      }\n",
              "\n",
              "      [theme=dark] .colab-df-generate {\n",
              "        background-color: #3B4455;\n",
              "        fill: #D2E3FC;\n",
              "      }\n",
              "\n",
              "      [theme=dark] .colab-df-generate:hover {\n",
              "        background-color: #434B5C;\n",
              "        box-shadow: 0px 1px 3px 1px rgba(0, 0, 0, 0.15);\n",
              "        filter: drop-shadow(0px 1px 2px rgba(0, 0, 0, 0.3));\n",
              "        fill: #FFFFFF;\n",
              "      }\n",
              "    </style>\n",
              "    <button class=\"colab-df-generate\" onclick=\"generateWithVariable('combined_df')\"\n",
              "            title=\"Generate code using this dataframe.\"\n",
              "            style=\"display:none;\">\n",
              "\n",
              "  <svg xmlns=\"http://www.w3.org/2000/svg\" height=\"24px\"viewBox=\"0 0 24 24\"\n",
              "       width=\"24px\">\n",
              "    <path d=\"M7,19H8.4L18.45,9,17,7.55,7,17.6ZM5,21V16.75L18.45,3.32a2,2,0,0,1,2.83,0l1.4,1.43a1.91,1.91,0,0,1,.58,1.4,1.91,1.91,0,0,1-.58,1.4L9.25,21ZM18.45,9,17,7.55Zm-12,3A5.31,5.31,0,0,0,4.9,8.1,5.31,5.31,0,0,0,1,6.5,5.31,5.31,0,0,0,4.9,4.9,5.31,5.31,0,0,0,6.5,1,5.31,5.31,0,0,0,8.1,4.9,5.31,5.31,0,0,0,12,6.5,5.46,5.46,0,0,0,6.5,12Z\"/>\n",
              "  </svg>\n",
              "    </button>\n",
              "    <script>\n",
              "      (() => {\n",
              "      const buttonEl =\n",
              "        document.querySelector('#id_7ee2c6cb-18d5-4615-b09e-0b157cdf38af button.colab-df-generate');\n",
              "      buttonEl.style.display =\n",
              "        google.colab.kernel.accessAllowed ? 'block' : 'none';\n",
              "\n",
              "      buttonEl.onclick = () => {\n",
              "        google.colab.notebook.generateWithVariable('combined_df');\n",
              "      }\n",
              "      })();\n",
              "    </script>\n",
              "  </div>\n",
              "\n",
              "    </div>\n",
              "  </div>\n"
            ],
            "application/vnd.google.colaboratory.intrinsic+json": {
              "type": "dataframe",
              "variable_name": "combined_df",
              "summary": "{\n  \"name\": \"combined_df\",\n  \"rows\": 21024,\n  \"fields\": [\n    {\n      \"column\": \"id\",\n      \"properties\": {\n        \"dtype\": \"string\",\n        \"num_unique_values\": 12542,\n        \"samples\": [\n          \"gossipcop-1893175436\",\n          \"gossipcop-3288271088\",\n          \"gossipcop-6887785794\"\n        ],\n        \"semantic_type\": \"\",\n        \"description\": \"\"\n      }\n    },\n    {\n      \"column\": \"description\",\n      \"properties\": {\n        \"dtype\": \"string\",\n        \"num_unique_values\": 11462,\n        \"samples\": [\n          \"The two are showing their support for each other on social media.\",\n          \"Entertainment News: Read all latest entertainment news, bollywood news, TV celbrity news and gossips. Find bollywood celebs gossip, news, and TV show at TimesNowNews.com\",\n          \"It\\u2019s not a Jersey Shore reunion without an awkward moment between Mike \\u201cThe Situation\\u201d [...]\"\n        ],\n        \"semantic_type\": \"\",\n        \"description\": \"\"\n      }\n    },\n    {\n      \"column\": \"text\",\n      \"properties\": {\n        \"dtype\": \"string\",\n        \"num_unique_values\": 19813,\n        \"samples\": [\n          \"In a shocking turn of events, Ellen DeGeneres and Portia de Rossi have announced their decision to end their marriage just days before their 9th anniversary celebration. Sources close to the couple say that there have been ongoing issues in their relationship for months, which they have tried to work through with no success. \\n\\nThe couple, who tied the knot in an intimate ceremony at their L.A. home in 2008, released a joint statement to the press. \\\"It is with heavy hearts that we have decided to end our marriage. This decision was not made lightly and we appreciate the respect for our privacy during this difficult time,\\\" the statement read. \\n\\nFans of the couple have taken to social media to express their shock and disappointment, with many sending messages of support to both Ellen and Portia during this tumultuous time. It is unclear what will happen next for the beloved Hollywood duo, but one thing is for sure - they will always be remembered for their love and commitment to each other.\",\n          \"As stars continue to distance themselves from Woody Allen, the director has found a staunch ally in Diane Keaton.\\n\\n\\u201cWoody Allen is my friend and I continue to believe him. It might be of interest to take a look at the \\u201960 Minute\\u2019 interview from 1992 and see what you think,\\u201d she tweeted, linking to the interview with Steve Kroft in which Allen discussed the allegations waged against him by his adopted daughter, Dylan Farrow. Farrow has accused Allen of sexually assaulting her in 1992 when she was seven years old, though he has never been charged. Keaton has starred in a number of Allen\\u2019s films, including \\u201cAnnie Hall,\\u201d \\u201cInteriors,\\u201d and \\u201cManhattan.\\u201d\\n\\nWoody Allen is my friend and I continue to believe him. It might be of interest to take a look at the 60 Minute interview from 1992 and see what you think. https://t.co/QVQIUxImB1 \\u2014 Diane Keaton (@Diane_Keaton) January 29, 2018\\n\\nThe allegations against Allen regained national prominence in the wake of the sexual abuse scandal centered around Harvey Weinstein (whom Allen referred to as a \\u201csad, sick man\\u201c) that rocked Hollywood, the #MeToo and Time\\u2019s Up movements, and Farrow\\u2019s recent interview with CBS regarding the alleged assault. Many stars, including Colin Firth and Greta Gerwig, recently said they would not work with the director again. Timoth\\u00e9e Chalamet and Rebecca Hall have pledged to donate their salaries from Allen\\u2019s upcoming film \\u201cA Rainy Day in New York\\u201d to various charities, including the Time\\u2019s Up Legal Defense Fund.\\n\\nAlec Baldwin has also advocated for Allen, saying it\\u2019s \\u201cunfair and sad\\u201d that actors are denouncing the filmmaker. Kate Winslet, who as recently as December sang Allen\\u2019s praises, said at the London Film Critics\\u2019 Circle Awards on Sunday that she has \\u201cbitter regrets\\u201d from working with \\u201cmen of power\\u201d who are associated with sexual harassment and assault.\",\n          \"It was a day of celebration for the Hough family as Julianne tied the knot with her NHL sweetheart, Brooks Laich. The wedding was a star-studded event with famous faces like Nina Dobrev, Aaron Paul and Mark Ballas in attendance.\\n\\nBut it was Julianne's brother and fellow DWTS star, Derek Hough, who stole the show as he served as one of Brooks' groomsman. At the wedding ceremony, Derek couldn't keep his excitement in as he exclaimed, \\\"My little sister is marrying the man of her dreams!\\\"\\n\\nThe Hough siblings have always been close and shared a special bond that extends beyond being on the same dancing show. Derek was filled with pride as he watched Julianne walk down the aisle with her father Bruce while the guests cheered on.\\n\\nIt was a beautiful ceremony in an idyllic location in Lake Coeur d'Alene, Idaho. After the wedding, the newlyweds shared a sweet photo on Instagram with the caption, \\\"We are overwhelmed with joy and excitement to share with everyone that we got married!\\\".\\n\\nDerek also took to social media to express his happiness, nothing more than, \\\"Love is in the air and I couldn't be happier for my sis and now brother-in-law!!\\\". It's clear that Julianne and Brooks have a loving and supportive family, and Derek will continue to cheer them on as they start this new chapter in their lives.\"\n        ],\n        \"semantic_type\": \"\",\n        \"description\": \"\"\n      }\n    },\n    {\n      \"column\": \"title\",\n      \"properties\": {\n        \"dtype\": \"string\",\n        \"num_unique_values\": 18157,\n        \"samples\": [\n          \"Katy Perry Says She's Ready for a 'Soul Overhaul' After 'Killing Her Ego' This Past Year\",\n          \"Glee star Mark Salling was 'depressed' and 'lonely' in his last days before apparent suicide\",\n          \"Emma Stone's Wild Ride to Fame\"\n        ],\n        \"semantic_type\": \"\",\n        \"description\": \"\"\n      }\n    },\n    {\n      \"column\": \"platform\",\n      \"properties\": {\n        \"dtype\": \"category\",\n        \"num_unique_values\": 2,\n        \"samples\": [\n          \"GossipCop\",\n          \"PolitiFact\"\n        ],\n        \"semantic_type\": \"\",\n        \"description\": \"\"\n      }\n    },\n    {\n      \"column\": \"source\",\n      \"properties\": {\n        \"dtype\": \"category\",\n        \"num_unique_values\": 2,\n        \"samples\": [\n          \"Human Written\",\n          \"LLM Generated\"\n        ],\n        \"semantic_type\": \"\",\n        \"description\": \"\"\n      }\n    },\n    {\n      \"column\": \"label\",\n      \"properties\": {\n        \"dtype\": \"category\",\n        \"num_unique_values\": 2,\n        \"samples\": [\n          \"Real\",\n          \"Fake\"\n        ],\n        \"semantic_type\": \"\",\n        \"description\": \"\"\n      }\n    }\n  ]\n}"
            }
          },
          "metadata": {},
          "execution_count": 57
        }
      ],
      "source": [
        "combined_df"
      ]
    },
    {
      "cell_type": "markdown",
      "metadata": {
        "id": "c3zFov8VnGdq"
      },
      "source": [
        "#### Combining two columns (for multi class task)"
      ]
    },
    {
      "cell_type": "code",
      "execution_count": null,
      "metadata": {
        "colab": {
          "base_uri": "https://localhost:8080/"
        },
        "id": "jDxBnx1jnGrZ",
        "outputId": "f39d3165-7632-4422-a204-064d5c0f9bff"
      },
      "outputs": [
        {
          "output_type": "stream",
          "name": "stdout",
          "text": [
            "          source label        source_label\n",
            "0  LLM Generated  Fake  LLM Generated_Fake\n",
            "1  LLM Generated  Fake  LLM Generated_Fake\n",
            "2  LLM Generated  Fake  LLM Generated_Fake\n",
            "3  LLM Generated  Fake  LLM Generated_Fake\n",
            "4  LLM Generated  Fake  LLM Generated_Fake\n"
          ]
        }
      ],
      "source": [
        "# Create the combined column by concatenating the 'source' and 'label' columns\n",
        "combined_df['source_label'] = combined_df['source'] + '_' + combined_df['label']\n",
        "\n",
        "# Display the first few rows to verify the new column\n",
        "print(combined_df[['source', 'label', 'source_label']].head())"
      ]
    },
    {
      "cell_type": "code",
      "execution_count": null,
      "metadata": {
        "colab": {
          "base_uri": "https://localhost:8080/",
          "height": 467
        },
        "id": "2nY2I3qko7t_",
        "outputId": "5f41e6b9-7873-4254-eaeb-0b708cd02ebf"
      },
      "outputs": [
        {
          "output_type": "execute_result",
          "data": {
            "text/plain": [
              "                id                                        description  \\\n",
              "0  politifact11773  Republican attacks on transgendered Americans ...   \n",
              "1  politifact13827  Whoopi Goldberg is in hot water after comments...   \n",
              "2  politifact13570  Washington, DC — A former Secret Service agent...   \n",
              "3  politifact14947  Bill Clinton’s hitman has confessed to more th...   \n",
              "4  politifact14517  Scott&#8217;s prognosis isn&#8217;t good. (via...   \n",
              "\n",
              "                                                text  \\\n",
              "0  inia State Representative Mark Cole's proposed...   \n",
              "1  Whoopi Goldberg has found herself in the middl...   \n",
              "2  A former Secret Service agent has written a ne...   \n",
              "3  In what appears to be a major blow to the cred...   \n",
              "4  In a shocking turn of events, Florida Governor...   \n",
              "\n",
              "                                               title    platform  \\\n",
              "0  Virginia Republican Introduces Controversial B...  PolitiFact   \n",
              "1  Whoopi Goldberg Faces Backlash for Disrespectf...  PolitiFact   \n",
              "2  Former Secret Service Agent Exposes Shocking S...  PolitiFact   \n",
              "3  Hannity Issues Retraction on False Story: Bill...  PolitiFact   \n",
              "4  Florida Governor Rick Scott Miraculously Recov...  PolitiFact   \n",
              "\n",
              "          source label        source_label  \n",
              "0  LLM Generated  Fake  LLM Generated_Fake  \n",
              "1  LLM Generated  Fake  LLM Generated_Fake  \n",
              "2  LLM Generated  Fake  LLM Generated_Fake  \n",
              "3  LLM Generated  Fake  LLM Generated_Fake  \n",
              "4  LLM Generated  Fake  LLM Generated_Fake  "
            ],
            "text/html": [
              "\n",
              "  <div id=\"df-f07b421e-9f43-4000-8c06-91ec865e8ee3\" class=\"colab-df-container\">\n",
              "    <div>\n",
              "<style scoped>\n",
              "    .dataframe tbody tr th:only-of-type {\n",
              "        vertical-align: middle;\n",
              "    }\n",
              "\n",
              "    .dataframe tbody tr th {\n",
              "        vertical-align: top;\n",
              "    }\n",
              "\n",
              "    .dataframe thead th {\n",
              "        text-align: right;\n",
              "    }\n",
              "</style>\n",
              "<table border=\"1\" class=\"dataframe\">\n",
              "  <thead>\n",
              "    <tr style=\"text-align: right;\">\n",
              "      <th></th>\n",
              "      <th>id</th>\n",
              "      <th>description</th>\n",
              "      <th>text</th>\n",
              "      <th>title</th>\n",
              "      <th>platform</th>\n",
              "      <th>source</th>\n",
              "      <th>label</th>\n",
              "      <th>source_label</th>\n",
              "    </tr>\n",
              "  </thead>\n",
              "  <tbody>\n",
              "    <tr>\n",
              "      <th>0</th>\n",
              "      <td>politifact11773</td>\n",
              "      <td>Republican attacks on transgendered Americans ...</td>\n",
              "      <td>inia State Representative Mark Cole's proposed...</td>\n",
              "      <td>Virginia Republican Introduces Controversial B...</td>\n",
              "      <td>PolitiFact</td>\n",
              "      <td>LLM Generated</td>\n",
              "      <td>Fake</td>\n",
              "      <td>LLM Generated_Fake</td>\n",
              "    </tr>\n",
              "    <tr>\n",
              "      <th>1</th>\n",
              "      <td>politifact13827</td>\n",
              "      <td>Whoopi Goldberg is in hot water after comments...</td>\n",
              "      <td>Whoopi Goldberg has found herself in the middl...</td>\n",
              "      <td>Whoopi Goldberg Faces Backlash for Disrespectf...</td>\n",
              "      <td>PolitiFact</td>\n",
              "      <td>LLM Generated</td>\n",
              "      <td>Fake</td>\n",
              "      <td>LLM Generated_Fake</td>\n",
              "    </tr>\n",
              "    <tr>\n",
              "      <th>2</th>\n",
              "      <td>politifact13570</td>\n",
              "      <td>Washington, DC — A former Secret Service agent...</td>\n",
              "      <td>A former Secret Service agent has written a ne...</td>\n",
              "      <td>Former Secret Service Agent Exposes Shocking S...</td>\n",
              "      <td>PolitiFact</td>\n",
              "      <td>LLM Generated</td>\n",
              "      <td>Fake</td>\n",
              "      <td>LLM Generated_Fake</td>\n",
              "    </tr>\n",
              "    <tr>\n",
              "      <th>3</th>\n",
              "      <td>politifact14947</td>\n",
              "      <td>Bill Clinton’s hitman has confessed to more th...</td>\n",
              "      <td>In what appears to be a major blow to the cred...</td>\n",
              "      <td>Hannity Issues Retraction on False Story: Bill...</td>\n",
              "      <td>PolitiFact</td>\n",
              "      <td>LLM Generated</td>\n",
              "      <td>Fake</td>\n",
              "      <td>LLM Generated_Fake</td>\n",
              "    </tr>\n",
              "    <tr>\n",
              "      <th>4</th>\n",
              "      <td>politifact14517</td>\n",
              "      <td>Scott&amp;#8217;s prognosis isn&amp;#8217;t good. (via...</td>\n",
              "      <td>In a shocking turn of events, Florida Governor...</td>\n",
              "      <td>Florida Governor Rick Scott Miraculously Recov...</td>\n",
              "      <td>PolitiFact</td>\n",
              "      <td>LLM Generated</td>\n",
              "      <td>Fake</td>\n",
              "      <td>LLM Generated_Fake</td>\n",
              "    </tr>\n",
              "  </tbody>\n",
              "</table>\n",
              "</div>\n",
              "    <div class=\"colab-df-buttons\">\n",
              "\n",
              "  <div class=\"colab-df-container\">\n",
              "    <button class=\"colab-df-convert\" onclick=\"convertToInteractive('df-f07b421e-9f43-4000-8c06-91ec865e8ee3')\"\n",
              "            title=\"Convert this dataframe to an interactive table.\"\n",
              "            style=\"display:none;\">\n",
              "\n",
              "  <svg xmlns=\"http://www.w3.org/2000/svg\" height=\"24px\" viewBox=\"0 -960 960 960\">\n",
              "    <path d=\"M120-120v-720h720v720H120Zm60-500h600v-160H180v160Zm220 220h160v-160H400v160Zm0 220h160v-160H400v160ZM180-400h160v-160H180v160Zm440 0h160v-160H620v160ZM180-180h160v-160H180v160Zm440 0h160v-160H620v160Z\"/>\n",
              "  </svg>\n",
              "    </button>\n",
              "\n",
              "  <style>\n",
              "    .colab-df-container {\n",
              "      display:flex;\n",
              "      gap: 12px;\n",
              "    }\n",
              "\n",
              "    .colab-df-convert {\n",
              "      background-color: #E8F0FE;\n",
              "      border: none;\n",
              "      border-radius: 50%;\n",
              "      cursor: pointer;\n",
              "      display: none;\n",
              "      fill: #1967D2;\n",
              "      height: 32px;\n",
              "      padding: 0 0 0 0;\n",
              "      width: 32px;\n",
              "    }\n",
              "\n",
              "    .colab-df-convert:hover {\n",
              "      background-color: #E2EBFA;\n",
              "      box-shadow: 0px 1px 2px rgba(60, 64, 67, 0.3), 0px 1px 3px 1px rgba(60, 64, 67, 0.15);\n",
              "      fill: #174EA6;\n",
              "    }\n",
              "\n",
              "    .colab-df-buttons div {\n",
              "      margin-bottom: 4px;\n",
              "    }\n",
              "\n",
              "    [theme=dark] .colab-df-convert {\n",
              "      background-color: #3B4455;\n",
              "      fill: #D2E3FC;\n",
              "    }\n",
              "\n",
              "    [theme=dark] .colab-df-convert:hover {\n",
              "      background-color: #434B5C;\n",
              "      box-shadow: 0px 1px 3px 1px rgba(0, 0, 0, 0.15);\n",
              "      filter: drop-shadow(0px 1px 2px rgba(0, 0, 0, 0.3));\n",
              "      fill: #FFFFFF;\n",
              "    }\n",
              "  </style>\n",
              "\n",
              "    <script>\n",
              "      const buttonEl =\n",
              "        document.querySelector('#df-f07b421e-9f43-4000-8c06-91ec865e8ee3 button.colab-df-convert');\n",
              "      buttonEl.style.display =\n",
              "        google.colab.kernel.accessAllowed ? 'block' : 'none';\n",
              "\n",
              "      async function convertToInteractive(key) {\n",
              "        const element = document.querySelector('#df-f07b421e-9f43-4000-8c06-91ec865e8ee3');\n",
              "        const dataTable =\n",
              "          await google.colab.kernel.invokeFunction('convertToInteractive',\n",
              "                                                    [key], {});\n",
              "        if (!dataTable) return;\n",
              "\n",
              "        const docLinkHtml = 'Like what you see? Visit the ' +\n",
              "          '<a target=\"_blank\" href=https://colab.research.google.com/notebooks/data_table.ipynb>data table notebook</a>'\n",
              "          + ' to learn more about interactive tables.';\n",
              "        element.innerHTML = '';\n",
              "        dataTable['output_type'] = 'display_data';\n",
              "        await google.colab.output.renderOutput(dataTable, element);\n",
              "        const docLink = document.createElement('div');\n",
              "        docLink.innerHTML = docLinkHtml;\n",
              "        element.appendChild(docLink);\n",
              "      }\n",
              "    </script>\n",
              "  </div>\n",
              "\n",
              "\n",
              "<div id=\"df-173df2b3-12cc-4850-a9c6-c62b84e3e15c\">\n",
              "  <button class=\"colab-df-quickchart\" onclick=\"quickchart('df-173df2b3-12cc-4850-a9c6-c62b84e3e15c')\"\n",
              "            title=\"Suggest charts\"\n",
              "            style=\"display:none;\">\n",
              "\n",
              "<svg xmlns=\"http://www.w3.org/2000/svg\" height=\"24px\"viewBox=\"0 0 24 24\"\n",
              "     width=\"24px\">\n",
              "    <g>\n",
              "        <path d=\"M19 3H5c-1.1 0-2 .9-2 2v14c0 1.1.9 2 2 2h14c1.1 0 2-.9 2-2V5c0-1.1-.9-2-2-2zM9 17H7v-7h2v7zm4 0h-2V7h2v10zm4 0h-2v-4h2v4z\"/>\n",
              "    </g>\n",
              "</svg>\n",
              "  </button>\n",
              "\n",
              "<style>\n",
              "  .colab-df-quickchart {\n",
              "      --bg-color: #E8F0FE;\n",
              "      --fill-color: #1967D2;\n",
              "      --hover-bg-color: #E2EBFA;\n",
              "      --hover-fill-color: #174EA6;\n",
              "      --disabled-fill-color: #AAA;\n",
              "      --disabled-bg-color: #DDD;\n",
              "  }\n",
              "\n",
              "  [theme=dark] .colab-df-quickchart {\n",
              "      --bg-color: #3B4455;\n",
              "      --fill-color: #D2E3FC;\n",
              "      --hover-bg-color: #434B5C;\n",
              "      --hover-fill-color: #FFFFFF;\n",
              "      --disabled-bg-color: #3B4455;\n",
              "      --disabled-fill-color: #666;\n",
              "  }\n",
              "\n",
              "  .colab-df-quickchart {\n",
              "    background-color: var(--bg-color);\n",
              "    border: none;\n",
              "    border-radius: 50%;\n",
              "    cursor: pointer;\n",
              "    display: none;\n",
              "    fill: var(--fill-color);\n",
              "    height: 32px;\n",
              "    padding: 0;\n",
              "    width: 32px;\n",
              "  }\n",
              "\n",
              "  .colab-df-quickchart:hover {\n",
              "    background-color: var(--hover-bg-color);\n",
              "    box-shadow: 0 1px 2px rgba(60, 64, 67, 0.3), 0 1px 3px 1px rgba(60, 64, 67, 0.15);\n",
              "    fill: var(--button-hover-fill-color);\n",
              "  }\n",
              "\n",
              "  .colab-df-quickchart-complete:disabled,\n",
              "  .colab-df-quickchart-complete:disabled:hover {\n",
              "    background-color: var(--disabled-bg-color);\n",
              "    fill: var(--disabled-fill-color);\n",
              "    box-shadow: none;\n",
              "  }\n",
              "\n",
              "  .colab-df-spinner {\n",
              "    border: 2px solid var(--fill-color);\n",
              "    border-color: transparent;\n",
              "    border-bottom-color: var(--fill-color);\n",
              "    animation:\n",
              "      spin 1s steps(1) infinite;\n",
              "  }\n",
              "\n",
              "  @keyframes spin {\n",
              "    0% {\n",
              "      border-color: transparent;\n",
              "      border-bottom-color: var(--fill-color);\n",
              "      border-left-color: var(--fill-color);\n",
              "    }\n",
              "    20% {\n",
              "      border-color: transparent;\n",
              "      border-left-color: var(--fill-color);\n",
              "      border-top-color: var(--fill-color);\n",
              "    }\n",
              "    30% {\n",
              "      border-color: transparent;\n",
              "      border-left-color: var(--fill-color);\n",
              "      border-top-color: var(--fill-color);\n",
              "      border-right-color: var(--fill-color);\n",
              "    }\n",
              "    40% {\n",
              "      border-color: transparent;\n",
              "      border-right-color: var(--fill-color);\n",
              "      border-top-color: var(--fill-color);\n",
              "    }\n",
              "    60% {\n",
              "      border-color: transparent;\n",
              "      border-right-color: var(--fill-color);\n",
              "    }\n",
              "    80% {\n",
              "      border-color: transparent;\n",
              "      border-right-color: var(--fill-color);\n",
              "      border-bottom-color: var(--fill-color);\n",
              "    }\n",
              "    90% {\n",
              "      border-color: transparent;\n",
              "      border-bottom-color: var(--fill-color);\n",
              "    }\n",
              "  }\n",
              "</style>\n",
              "\n",
              "  <script>\n",
              "    async function quickchart(key) {\n",
              "      const quickchartButtonEl =\n",
              "        document.querySelector('#' + key + ' button');\n",
              "      quickchartButtonEl.disabled = true;  // To prevent multiple clicks.\n",
              "      quickchartButtonEl.classList.add('colab-df-spinner');\n",
              "      try {\n",
              "        const charts = await google.colab.kernel.invokeFunction(\n",
              "            'suggestCharts', [key], {});\n",
              "      } catch (error) {\n",
              "        console.error('Error during call to suggestCharts:', error);\n",
              "      }\n",
              "      quickchartButtonEl.classList.remove('colab-df-spinner');\n",
              "      quickchartButtonEl.classList.add('colab-df-quickchart-complete');\n",
              "    }\n",
              "    (() => {\n",
              "      let quickchartButtonEl =\n",
              "        document.querySelector('#df-173df2b3-12cc-4850-a9c6-c62b84e3e15c button');\n",
              "      quickchartButtonEl.style.display =\n",
              "        google.colab.kernel.accessAllowed ? 'block' : 'none';\n",
              "    })();\n",
              "  </script>\n",
              "</div>\n",
              "\n",
              "    </div>\n",
              "  </div>\n"
            ],
            "application/vnd.google.colaboratory.intrinsic+json": {
              "type": "dataframe",
              "variable_name": "combined_df",
              "summary": "{\n  \"name\": \"combined_df\",\n  \"rows\": 21024,\n  \"fields\": [\n    {\n      \"column\": \"id\",\n      \"properties\": {\n        \"dtype\": \"string\",\n        \"num_unique_values\": 12542,\n        \"samples\": [\n          \"gossipcop-1893175436\",\n          \"gossipcop-3288271088\",\n          \"gossipcop-6887785794\"\n        ],\n        \"semantic_type\": \"\",\n        \"description\": \"\"\n      }\n    },\n    {\n      \"column\": \"description\",\n      \"properties\": {\n        \"dtype\": \"string\",\n        \"num_unique_values\": 11462,\n        \"samples\": [\n          \"The two are showing their support for each other on social media.\",\n          \"Entertainment News: Read all latest entertainment news, bollywood news, TV celbrity news and gossips. Find bollywood celebs gossip, news, and TV show at TimesNowNews.com\",\n          \"It\\u2019s not a Jersey Shore reunion without an awkward moment between Mike \\u201cThe Situation\\u201d [...]\"\n        ],\n        \"semantic_type\": \"\",\n        \"description\": \"\"\n      }\n    },\n    {\n      \"column\": \"text\",\n      \"properties\": {\n        \"dtype\": \"string\",\n        \"num_unique_values\": 19813,\n        \"samples\": [\n          \"In a shocking turn of events, Ellen DeGeneres and Portia de Rossi have announced their decision to end their marriage just days before their 9th anniversary celebration. Sources close to the couple say that there have been ongoing issues in their relationship for months, which they have tried to work through with no success. \\n\\nThe couple, who tied the knot in an intimate ceremony at their L.A. home in 2008, released a joint statement to the press. \\\"It is with heavy hearts that we have decided to end our marriage. This decision was not made lightly and we appreciate the respect for our privacy during this difficult time,\\\" the statement read. \\n\\nFans of the couple have taken to social media to express their shock and disappointment, with many sending messages of support to both Ellen and Portia during this tumultuous time. It is unclear what will happen next for the beloved Hollywood duo, but one thing is for sure - they will always be remembered for their love and commitment to each other.\",\n          \"As stars continue to distance themselves from Woody Allen, the director has found a staunch ally in Diane Keaton.\\n\\n\\u201cWoody Allen is my friend and I continue to believe him. It might be of interest to take a look at the \\u201960 Minute\\u2019 interview from 1992 and see what you think,\\u201d she tweeted, linking to the interview with Steve Kroft in which Allen discussed the allegations waged against him by his adopted daughter, Dylan Farrow. Farrow has accused Allen of sexually assaulting her in 1992 when she was seven years old, though he has never been charged. Keaton has starred in a number of Allen\\u2019s films, including \\u201cAnnie Hall,\\u201d \\u201cInteriors,\\u201d and \\u201cManhattan.\\u201d\\n\\nWoody Allen is my friend and I continue to believe him. It might be of interest to take a look at the 60 Minute interview from 1992 and see what you think. https://t.co/QVQIUxImB1 \\u2014 Diane Keaton (@Diane_Keaton) January 29, 2018\\n\\nThe allegations against Allen regained national prominence in the wake of the sexual abuse scandal centered around Harvey Weinstein (whom Allen referred to as a \\u201csad, sick man\\u201c) that rocked Hollywood, the #MeToo and Time\\u2019s Up movements, and Farrow\\u2019s recent interview with CBS regarding the alleged assault. Many stars, including Colin Firth and Greta Gerwig, recently said they would not work with the director again. Timoth\\u00e9e Chalamet and Rebecca Hall have pledged to donate their salaries from Allen\\u2019s upcoming film \\u201cA Rainy Day in New York\\u201d to various charities, including the Time\\u2019s Up Legal Defense Fund.\\n\\nAlec Baldwin has also advocated for Allen, saying it\\u2019s \\u201cunfair and sad\\u201d that actors are denouncing the filmmaker. Kate Winslet, who as recently as December sang Allen\\u2019s praises, said at the London Film Critics\\u2019 Circle Awards on Sunday that she has \\u201cbitter regrets\\u201d from working with \\u201cmen of power\\u201d who are associated with sexual harassment and assault.\",\n          \"It was a day of celebration for the Hough family as Julianne tied the knot with her NHL sweetheart, Brooks Laich. The wedding was a star-studded event with famous faces like Nina Dobrev, Aaron Paul and Mark Ballas in attendance.\\n\\nBut it was Julianne's brother and fellow DWTS star, Derek Hough, who stole the show as he served as one of Brooks' groomsman. At the wedding ceremony, Derek couldn't keep his excitement in as he exclaimed, \\\"My little sister is marrying the man of her dreams!\\\"\\n\\nThe Hough siblings have always been close and shared a special bond that extends beyond being on the same dancing show. Derek was filled with pride as he watched Julianne walk down the aisle with her father Bruce while the guests cheered on.\\n\\nIt was a beautiful ceremony in an idyllic location in Lake Coeur d'Alene, Idaho. After the wedding, the newlyweds shared a sweet photo on Instagram with the caption, \\\"We are overwhelmed with joy and excitement to share with everyone that we got married!\\\".\\n\\nDerek also took to social media to express his happiness, nothing more than, \\\"Love is in the air and I couldn't be happier for my sis and now brother-in-law!!\\\". It's clear that Julianne and Brooks have a loving and supportive family, and Derek will continue to cheer them on as they start this new chapter in their lives.\"\n        ],\n        \"semantic_type\": \"\",\n        \"description\": \"\"\n      }\n    },\n    {\n      \"column\": \"title\",\n      \"properties\": {\n        \"dtype\": \"string\",\n        \"num_unique_values\": 18157,\n        \"samples\": [\n          \"Katy Perry Says She's Ready for a 'Soul Overhaul' After 'Killing Her Ego' This Past Year\",\n          \"Glee star Mark Salling was 'depressed' and 'lonely' in his last days before apparent suicide\",\n          \"Emma Stone's Wild Ride to Fame\"\n        ],\n        \"semantic_type\": \"\",\n        \"description\": \"\"\n      }\n    },\n    {\n      \"column\": \"platform\",\n      \"properties\": {\n        \"dtype\": \"category\",\n        \"num_unique_values\": 2,\n        \"samples\": [\n          \"GossipCop\",\n          \"PolitiFact\"\n        ],\n        \"semantic_type\": \"\",\n        \"description\": \"\"\n      }\n    },\n    {\n      \"column\": \"source\",\n      \"properties\": {\n        \"dtype\": \"category\",\n        \"num_unique_values\": 2,\n        \"samples\": [\n          \"Human Written\",\n          \"LLM Generated\"\n        ],\n        \"semantic_type\": \"\",\n        \"description\": \"\"\n      }\n    },\n    {\n      \"column\": \"label\",\n      \"properties\": {\n        \"dtype\": \"category\",\n        \"num_unique_values\": 2,\n        \"samples\": [\n          \"Real\",\n          \"Fake\"\n        ],\n        \"semantic_type\": \"\",\n        \"description\": \"\"\n      }\n    },\n    {\n      \"column\": \"source_label\",\n      \"properties\": {\n        \"dtype\": \"category\",\n        \"num_unique_values\": 4,\n        \"samples\": [\n          \"Human Written_Fake\",\n          \"Human Written_Real\"\n        ],\n        \"semantic_type\": \"\",\n        \"description\": \"\"\n      }\n    }\n  ]\n}"
            }
          },
          "metadata": {},
          "execution_count": 59
        }
      ],
      "source": [
        "combined_df.head()"
      ]
    },
    {
      "cell_type": "markdown",
      "metadata": {
        "id": "3W6MTocEEBMu"
      },
      "source": [
        "#### Text Analysis Before Cleaning"
      ]
    },
    {
      "cell_type": "markdown",
      "metadata": {
        "id": "hqr16gMwpV8q"
      },
      "source": [
        "##### Readibility score (before)"
      ]
    },
    {
      "cell_type": "code",
      "execution_count": null,
      "metadata": {
        "colab": {
          "base_uri": "https://localhost:8080/"
        },
        "id": "KtGRD1lYptk9",
        "outputId": "8f90379e-c879-4e50-8fe9-dabcd16f08b0"
      },
      "outputs": [
        {
          "output_type": "stream",
          "name": "stdout",
          "text": [
            "Requirement already satisfied: textstat in /usr/local/lib/python3.10/dist-packages (0.7.4)\n",
            "Requirement already satisfied: pyphen in /usr/local/lib/python3.10/dist-packages (from textstat) (0.16.0)\n",
            "Requirement already satisfied: setuptools in /usr/local/lib/python3.10/dist-packages (from textstat) (71.0.4)\n"
          ]
        }
      ],
      "source": [
        "pip install textstat"
      ]
    },
    {
      "cell_type": "code",
      "execution_count": null,
      "metadata": {
        "colab": {
          "base_uri": "https://localhost:8080/"
        },
        "id": "ksh1X7M9pWEU",
        "outputId": "8c1541b2-30c0-43be-9ad8-c44a60ca7312"
      },
      "outputs": [
        {
          "output_type": "stream",
          "name": "stdout",
          "text": [
            "                                         description  \\\n",
            "0  Republican attacks on transgendered Americans ...   \n",
            "1  Whoopi Goldberg is in hot water after comments...   \n",
            "2  Washington, DC — A former Secret Service agent...   \n",
            "3  Bill Clinton’s hitman has confessed to more th...   \n",
            "4  Scott&#8217;s prognosis isn&#8217;t good. (via...   \n",
            "\n",
            "   description_readability_before  \\\n",
            "0                           15.65   \n",
            "1                           65.93   \n",
            "2                           43.74   \n",
            "3                           68.30   \n",
            "4                           14.63   \n",
            "\n",
            "                                                text  text_readability_before  \\\n",
            "0  inia State Representative Mark Cole's proposed...                    36.12   \n",
            "1  Whoopi Goldberg has found herself in the middl...                    45.19   \n",
            "2  A former Secret Service agent has written a ne...                    50.57   \n",
            "3  In what appears to be a major blow to the cred...                    35.95   \n",
            "4  In a shocking turn of events, Florida Governor...                    50.36   \n",
            "\n",
            "                                               title  title_readability_before  \n",
            "0  Virginia Republican Introduces Controversial B...                     18.01  \n",
            "1  Whoopi Goldberg Faces Backlash for Disrespectf...                     43.39  \n",
            "2  Former Secret Service Agent Exposes Shocking S...                     36.96  \n",
            "3  Hannity Issues Retraction on False Story: Bill...                     31.89  \n",
            "4  Florida Governor Rick Scott Miraculously Recov...                      1.09  \n"
          ]
        }
      ],
      "source": [
        "import textstat\n",
        "\n",
        "# Calculate readability scores before text cleaning\n",
        "combined_df['description_readability_before'] = combined_df['description'].apply(textstat.flesch_reading_ease)\n",
        "combined_df['text_readability_before'] = combined_df['text'].apply(textstat.flesch_reading_ease)\n",
        "combined_df['title_readability_before'] = combined_df['title'].apply(textstat.flesch_reading_ease)\n",
        "\n",
        "# Display the first few rows to verify the new columns\n",
        "print(combined_df[['description', 'description_readability_before', 'text', 'text_readability_before', 'title', 'title_readability_before']].head())\n"
      ]
    },
    {
      "cell_type": "markdown",
      "metadata": {
        "id": "S5-S23MFEPAr"
      },
      "source": [
        "##### Text Length (before)"
      ]
    },
    {
      "cell_type": "code",
      "execution_count": null,
      "metadata": {
        "id": "MPClwy5CEPIE"
      },
      "outputs": [],
      "source": [
        "# Calculate text length before cleaning\n",
        "combined_df['title_length_before'] = combined_df['title'].apply(len)\n",
        "combined_df['description_length_before'] = combined_df['description'].apply(len)\n",
        "combined_df['text_length_before'] = combined_df['text'].apply(len)"
      ]
    },
    {
      "cell_type": "markdown",
      "metadata": {
        "id": "PVri0v25eEyb"
      },
      "source": [
        "## Text Cleaning"
      ]
    },
    {
      "cell_type": "code",
      "execution_count": null,
      "metadata": {
        "colab": {
          "base_uri": "https://localhost:8080/"
        },
        "id": "OC_VDlAMectS",
        "outputId": "03807951-1af0-4db8-bdef-6dfde88c4e1f"
      },
      "outputs": [
        {
          "output_type": "stream",
          "name": "stderr",
          "text": [
            "[nltk_data] Downloading package stopwords to /root/nltk_data...\n",
            "[nltk_data]   Package stopwords is already up-to-date!\n",
            "[nltk_data] Downloading package punkt to /root/nltk_data...\n",
            "[nltk_data]   Package punkt is already up-to-date!\n",
            "[nltk_data] Downloading package wordnet to /root/nltk_data...\n",
            "[nltk_data]   Package wordnet is already up-to-date!\n"
          ]
        },
        {
          "output_type": "execute_result",
          "data": {
            "text/plain": [
              "True"
            ]
          },
          "metadata": {},
          "execution_count": 63
        }
      ],
      "source": [
        "import pandas as pd\n",
        "import re\n",
        "import string\n",
        "from nltk.corpus import stopwords\n",
        "from nltk.tokenize import word_tokenize\n",
        "from nltk.stem import PorterStemmer, WordNetLemmatizer\n",
        "\n",
        "# Ensure you have downloaded the required NLTK data\n",
        "import nltk\n",
        "nltk.download('stopwords')\n",
        "nltk.download('punkt')\n",
        "nltk.download('wordnet')"
      ]
    },
    {
      "cell_type": "code",
      "execution_count": null,
      "metadata": {
        "id": "og-7Nr7GeE6Y"
      },
      "outputs": [],
      "source": [
        "import re\n",
        "import string\n",
        "from nltk.corpus import stopwords\n",
        "from nltk.stem import PorterStemmer, WordNetLemmatizer\n",
        "from nltk.tokenize import word_tokenize\n",
        "\n",
        "def text_preprocessing(text):\n",
        "    stop_words = set(stopwords.words('english'))\n",
        "    stemmer = PorterStemmer()\n",
        "    lemmatizer = WordNetLemmatizer()\n",
        "\n",
        "    # Work on a copy of the text to avoid modifying the original\n",
        "    processed_text = text.lower()\n",
        "\n",
        "    # Remove URLs\n",
        "    processed_text = re.sub(r'((www\\.[^\\s]+)|(https?://[^\\s]+))', '', processed_text)\n",
        "\n",
        "    # Remove text enclosed in square brackets\n",
        "    processed_text = re.sub(r'\\[.*?\\]', '', processed_text)\n",
        "\n",
        "    # Remove text enclosed in angle brackets\n",
        "    processed_text = re.sub(r'<.*?>+', '', processed_text)\n",
        "\n",
        "    # Remove punctuation characters\n",
        "    processed_text = re.sub(r'[%s]' % re.escape(string.punctuation), '', processed_text)\n",
        "\n",
        "    # Remove newline characters\n",
        "    processed_text = re.sub(r'\\n', '', processed_text)\n",
        "\n",
        "    # Remove substrings of digits surrounded by word characters\n",
        "    processed_text = re.sub(r'\\w*\\d\\w*', '', processed_text)\n",
        "\n",
        "    # Remove emails\n",
        "    processed_text = re.sub(r'@\\S+', '', processed_text)\n",
        "\n",
        "    # Remove numbers\n",
        "    processed_text = re.sub(r'\\b\\d+\\b', '', processed_text)\n",
        "\n",
        "    # Remove repeating characters\n",
        "    processed_text = re.sub(r'(.)\\1+', r'\\1', processed_text)\n",
        "\n",
        "    # Tokenize, remove stopwords, stem, and lemmatize\n",
        "    words = word_tokenize(processed_text)\n",
        "    words = [word for word in words if word not in stop_words and len(word) > 1]\n",
        "    words = [stemmer.stem(word) for word in words]\n",
        "    words = [lemmatizer.lemmatize(word) for word in words]\n",
        "\n",
        "    # Join the processed words back into a single string\n",
        "    processed_text = \" \".join(words)\n",
        "\n",
        "    return processed_text"
      ]
    },
    {
      "cell_type": "markdown",
      "metadata": {
        "id": "kKN3OzPxMFZ8"
      },
      "source": [
        "### Apply the text_preprocessing function on title, description, and text columns"
      ]
    },
    {
      "cell_type": "code",
      "execution_count": null,
      "metadata": {
        "id": "6MXpb_qDehUq"
      },
      "outputs": [],
      "source": [
        "# Apply the cleaning function on title, description, and text columns\n",
        "combined_df['cleaned_description'] = combined_df['description'].apply(text_preprocessing)\n",
        "combined_df['cleaned_text'] = combined_df['text'].apply(text_preprocessing)\n",
        "combined_df['cleaned_title'] = combined_df['title'].apply(text_preprocessing)"
      ]
    },
    {
      "cell_type": "markdown",
      "metadata": {
        "id": "wscmOiHqhHUT"
      },
      "source": [
        "## Text Length (after)"
      ]
    },
    {
      "cell_type": "code",
      "execution_count": null,
      "metadata": {
        "id": "Oa5dTJUxY-PY"
      },
      "outputs": [],
      "source": [
        "# Calculate text length before cleaning\n",
        "combined_df['title_length_after'] = combined_df['title'].apply(len)\n",
        "combined_df['description_length_after'] = combined_df['description'].apply(len)\n",
        "combined_df['text_length_after'] = combined_df['text'].apply(len)"
      ]
    },
    {
      "cell_type": "markdown",
      "metadata": {
        "id": "Ji3KxwX0fji9"
      },
      "source": [
        "## Sentiment Analysis"
      ]
    },
    {
      "cell_type": "markdown",
      "metadata": {
        "id": "NDAx1z_witSU"
      },
      "source": [
        "### Sentiment (before)"
      ]
    },
    {
      "cell_type": "code",
      "execution_count": null,
      "metadata": {
        "id": "Q0G5jL76fjq3"
      },
      "outputs": [],
      "source": [
        "from textblob import TextBlob\n",
        "\n",
        "# Function to calculate sentiment polarity\n",
        "def get_sentiment(text):\n",
        "    return TextBlob(text).sentiment.polarity\n",
        "\n",
        "combined_df['title_sentiment'] = combined_df['title'].apply(get_sentiment)\n",
        "combined_df['text_sentiment'] = combined_df['text'].apply(get_sentiment)\n",
        "combined_df['description_sentiment'] = combined_df['description'].apply(get_sentiment)"
      ]
    },
    {
      "cell_type": "markdown",
      "metadata": {
        "id": "Lbo4yOuqixBJ"
      },
      "source": [
        "### Sentiment (After)"
      ]
    },
    {
      "cell_type": "code",
      "execution_count": null,
      "metadata": {
        "id": "H4OBFStG6hPB"
      },
      "outputs": [],
      "source": [
        "# Apply sentiment analysis on cleaned data\n",
        "combined_df['cleaned_title_sentiment'] = combined_df['cleaned_title'].apply(get_sentiment)\n",
        "combined_df['cleaned_text_sentiment'] = combined_df['cleaned_text'].apply(get_sentiment)\n",
        "combined_df['cleaned_description_sentiment'] = combined_df['cleaned_description'].apply(get_sentiment)\n"
      ]
    },
    {
      "cell_type": "markdown",
      "metadata": {
        "id": "prcQQP0Ogh0p"
      },
      "source": [
        "## Readability Score (After)"
      ]
    },
    {
      "cell_type": "code",
      "execution_count": null,
      "metadata": {
        "id": "Pj6qqQkigh7G"
      },
      "outputs": [],
      "source": [
        "# Calculate readability scores after text cleaning\n",
        "combined_df['description_readability_after'] = combined_df['cleaned_description'].apply(textstat.flesch_reading_ease)\n",
        "combined_df['text_readability_after'] = combined_df['cleaned_text'].apply(textstat.flesch_reading_ease)\n",
        "combined_df['title_readability_after'] = combined_df['cleaned_title'].apply(textstat.flesch_reading_ease)"
      ]
    },
    {
      "cell_type": "code",
      "execution_count": null,
      "metadata": {
        "colab": {
          "base_uri": "https://localhost:8080/"
        },
        "id": "giR6mY-UAdE1",
        "outputId": "8b85f3b2-128d-424a-f55d-2e9110a3c88e"
      },
      "outputs": [
        {
          "output_type": "execute_result",
          "data": {
            "text/plain": [
              "Index(['id', 'description', 'text', 'title', 'platform', 'source', 'label',\n",
              "       'source_label', 'description_readability_before',\n",
              "       'text_readability_before', 'title_readability_before',\n",
              "       'title_length_before', 'description_length_before',\n",
              "       'text_length_before', 'cleaned_description', 'cleaned_text',\n",
              "       'cleaned_title', 'title_length_after', 'description_length_after',\n",
              "       'text_length_after', 'title_sentiment', 'text_sentiment',\n",
              "       'description_sentiment', 'cleaned_title_sentiment',\n",
              "       'cleaned_text_sentiment', 'cleaned_description_sentiment',\n",
              "       'description_readability_after', 'text_readability_after',\n",
              "       'title_readability_after'],\n",
              "      dtype='object')"
            ]
          },
          "metadata": {},
          "execution_count": 70
        }
      ],
      "source": [
        "combined_df.columns"
      ]
    },
    {
      "cell_type": "markdown",
      "metadata": {
        "id": "wRrGT3HhBF5c"
      },
      "source": [
        "## Model Preparation"
      ]
    },
    {
      "cell_type": "markdown",
      "metadata": {
        "id": "KASNCrS5GCp1"
      },
      "source": [
        "#### Scaling (Standardisation)"
      ]
    },
    {
      "cell_type": "code",
      "execution_count": null,
      "metadata": {
        "colab": {
          "base_uri": "https://localhost:8080/"
        },
        "id": "Wuvv7AxgHX6K",
        "outputId": "f2f87377-be71-4abc-dada-41b9ab84e135"
      },
      "outputs": [
        {
          "output_type": "stream",
          "name": "stdout",
          "text": [
            "   text_length_before  description_length_before  title_length_before  \\\n",
            "0           -0.158926                   2.020107             0.004766   \n",
            "1           -0.330207                   1.981057            -0.007190   \n",
            "2           -0.239516                   1.239106            -0.063983   \n",
            "3           -0.335580                   4.158095             0.034656   \n",
            "4           -0.269173                  -0.654819             0.013733   \n",
            "\n",
            "   text_length_after  description_length_after  title_length_after  \\\n",
            "0          -0.158926                  2.020107            0.004766   \n",
            "1          -0.330207                  1.981057           -0.007190   \n",
            "2          -0.239516                  1.239106           -0.063983   \n",
            "3          -0.335580                  4.158095            0.034656   \n",
            "4          -0.269173                 -0.654819            0.013733   \n",
            "\n",
            "   text_readability_before  description_readability_before  \\\n",
            "0                -2.340435                       -2.131953   \n",
            "1                -1.582423                       -0.092149   \n",
            "2                -1.132797                       -0.992373   \n",
            "3                -2.354642                        0.003999   \n",
            "4                -1.150348                       -2.173334   \n",
            "\n",
            "   title_readability_before  cleaned_text_sentiment  \\\n",
            "0                 -2.270794                0.414293   \n",
            "1                 -1.071570               -0.524327   \n",
            "2                 -1.375392               -0.518088   \n",
            "3                 -1.614953               -1.655500   \n",
            "4                 -3.070276                2.014648   \n",
            "\n",
            "   cleaned_description_sentiment  cleaned_title_sentiment  \n",
            "0                      -0.357763                -0.198857  \n",
            "1                       0.735451                -0.198857  \n",
            "2                      -0.413417                -1.403654  \n",
            "3                      -2.056929                -0.198857  \n",
            "4                      -0.357763                -0.198857  \n"
          ]
        }
      ],
      "source": [
        "# Import the StandardScaler class from scikit-learn\n",
        "from sklearn.preprocessing import StandardScaler\n",
        "\n",
        "# List of columns in the DataFrame that need to be standardized\n",
        "columns_to_standardize = [\n",
        "    'text_length_before',  # Length of text before cleaning\n",
        "    'description_length_before',  # Length of description before cleaning\n",
        "    'title_length_before',  # Length of title before cleaning\n",
        "    'text_length_after',  # Length of text after cleaning\n",
        "    'description_length_after',  # Length of description after cleaning\n",
        "    'title_length_after',  # Length of title after cleaning\n",
        "    'text_readability_before',  # Readability score of text before cleaning\n",
        "    'description_readability_before',  # Readability score of description before cleaning\n",
        "    'title_readability_before',  # Readability score of title before cleaning\n",
        "    'cleaned_text_sentiment',  # Sentiment score of cleaned text\n",
        "    'cleaned_description_sentiment',  # Sentiment score of cleaned description\n",
        "    'cleaned_title_sentiment'  # Sentiment score of cleaned title\n",
        "]\n",
        "\n",
        "# Initialize the StandardScaler\n",
        "scaler = StandardScaler()\n",
        "\n",
        "# Fit the StandardScaler to the selected columns and transform them\n",
        "combined_df[columns_to_standardize] = scaler.fit_transform(combined_df[columns_to_standardize])\n",
        "\n",
        "# Print the first few rows of the standardized columns to verify the transformation\n",
        "print(combined_df[columns_to_standardize].head())"
      ]
    },
    {
      "cell_type": "markdown",
      "metadata": {
        "id": "ysIVDFxfj4ME"
      },
      "source": [
        "## Split the daraframe"
      ]
    },
    {
      "cell_type": "code",
      "execution_count": null,
      "metadata": {
        "colab": {
          "base_uri": "https://localhost:8080/"
        },
        "id": "HV-w_swCj4Tf",
        "outputId": "a942485a-47a2-4149-ca01-e79fb909f6a9"
      },
      "outputs": [
        {
          "output_type": "stream",
          "name": "stdout",
          "text": [
            "GossipCop dataframe shape: (20505, 29)\n",
            "PolitiFact dataframe shape: (519, 29)\n",
            "Combined dataframe shape: (21024, 29)\n"
          ]
        }
      ],
      "source": [
        "# Split the combined_df dataframe by platform\n",
        "\n",
        "# Create a separate dataframe for each platform\n",
        "gossipcop_df = combined_df[combined_df['platform'] == 'GossipCop']\n",
        "politifact_df = combined_df[combined_df['platform'] == 'PolitiFact']\n",
        "\n",
        "# Print the shapes of the new dataframes\n",
        "print(f\"GossipCop dataframe shape: {gossipcop_df.shape}\")\n",
        "print(f\"PolitiFact dataframe shape: {politifact_df.shape}\")\n",
        "\n",
        "# Print the shape of the combined dataframe\n",
        "print(f\"Combined dataframe shape: {combined_df.shape}\")"
      ]
    },
    {
      "cell_type": "code",
      "execution_count": null,
      "metadata": {
        "colab": {
          "base_uri": "https://localhost:8080/"
        },
        "id": "A0Z6HmGJamTe",
        "outputId": "52e6db39-9363-4ef2-8ab3-be34138b2844"
      },
      "outputs": [
        {
          "output_type": "execute_result",
          "data": {
            "text/plain": [
              "Index(['id', 'description', 'text', 'title', 'platform', 'source', 'label',\n",
              "       'source_label', 'description_readability_before',\n",
              "       'text_readability_before', 'title_readability_before',\n",
              "       'title_length_before', 'description_length_before',\n",
              "       'text_length_before', 'cleaned_description', 'cleaned_text',\n",
              "       'cleaned_title', 'title_length_after', 'description_length_after',\n",
              "       'text_length_after', 'title_sentiment', 'text_sentiment',\n",
              "       'description_sentiment', 'cleaned_title_sentiment',\n",
              "       'cleaned_text_sentiment', 'cleaned_description_sentiment',\n",
              "       'description_readability_after', 'text_readability_after',\n",
              "       'title_readability_after'],\n",
              "      dtype='object')"
            ]
          },
          "metadata": {},
          "execution_count": 73
        }
      ],
      "source": [
        "combined_df.columns"
      ]
    },
    {
      "cell_type": "markdown",
      "metadata": {
        "id": "DAZlo6Y3l5Jk"
      },
      "source": [
        "### Dropping the columns"
      ]
    },
    {
      "cell_type": "code",
      "execution_count": null,
      "metadata": {
        "colab": {
          "base_uri": "https://localhost:8080/"
        },
        "id": "ukKfDWA1l4bo",
        "outputId": "b3977c43-c636-4294-fd0f-6aed7e4a3fbd"
      },
      "outputs": [
        {
          "output_type": "stream",
          "name": "stdout",
          "text": [
            "   text_length_before  description_length_before  title_length_before  \\\n",
            "0           -0.158926                   2.020107             0.004766   \n",
            "1           -0.330207                   1.981057            -0.007190   \n",
            "2           -0.239516                   1.239106            -0.063983   \n",
            "3           -0.335580                   4.158095             0.034656   \n",
            "4           -0.269173                  -0.654819             0.013733   \n",
            "\n",
            "   text_length_after  description_length_after  title_length_after  \\\n",
            "0          -0.158926                  2.020107            0.004766   \n",
            "1          -0.330207                  1.981057           -0.007190   \n",
            "2          -0.239516                  1.239106           -0.063983   \n",
            "3          -0.335580                  4.158095            0.034656   \n",
            "4          -0.269173                 -0.654819            0.013733   \n",
            "\n",
            "   text_readability_before  description_readability_before  \\\n",
            "0                -2.340435                       -2.131953   \n",
            "1                -1.582423                       -0.092149   \n",
            "2                -1.132797                       -0.992373   \n",
            "3                -2.354642                        0.003999   \n",
            "4                -1.150348                       -2.173334   \n",
            "\n",
            "   title_readability_before  cleaned_text_sentiment  \\\n",
            "0                 -2.270794                0.414293   \n",
            "1                 -1.071570               -0.524327   \n",
            "2                 -1.375392               -0.518088   \n",
            "3                 -1.614953               -1.655500   \n",
            "4                 -3.070276                2.014648   \n",
            "\n",
            "   cleaned_description_sentiment  cleaned_title_sentiment label  \\\n",
            "0                      -0.357763                -0.198857  Fake   \n",
            "1                       0.735451                -0.198857  Fake   \n",
            "2                      -0.413417                -1.403654  Fake   \n",
            "3                      -2.056929                -0.198857  Fake   \n",
            "4                      -0.357763                -0.198857  Fake   \n",
            "\n",
            "          source                                       cleaned_text  \n",
            "0  LLM Generated  inia state repres mark cole propos bil creat p...  \n",
            "1  LLM Generated  whopi goldberg found midl firestorm controvers...  \n",
            "2  LLM Generated  former secret servic agent writen new telal bo...  \n",
            "3  LLM Generated  apear major blow credibl conserv news pundit s...  \n",
            "4  LLM Generated  shock turn event florida governor rick scot ma...  \n",
            "     text_length_before  description_length_before  title_length_before  \\\n",
            "519           -0.227052                  -0.869594            -0.078928   \n",
            "520           -0.291739                   0.321431            -0.069961   \n",
            "521           -0.148610                  -0.479094            -0.069961   \n",
            "522           -0.403061                  -0.781732            -0.034092   \n",
            "523           -0.283572                   0.174994            -0.075939   \n",
            "\n",
            "     text_length_after  description_length_after  title_length_after  \\\n",
            "519          -0.227052                 -0.869594           -0.078928   \n",
            "520          -0.291739                  0.321431           -0.069961   \n",
            "521          -0.148610                 -0.479094           -0.069961   \n",
            "522          -0.403061                 -0.781732           -0.034092   \n",
            "523          -0.283572                  0.174994           -0.075939   \n",
            "\n",
            "     text_readability_before  description_readability_before  \\\n",
            "519                 0.391584                        1.519654   \n",
            "520                 0.306339                       -0.676747   \n",
            "521                -0.663950                        0.242950   \n",
            "522                 0.204379                        0.490015   \n",
            "523                -0.705737                       -0.429682   \n",
            "\n",
            "     title_readability_before  cleaned_text_sentiment  \\\n",
            "519                 -0.575910                0.213349   \n",
            "520                  0.975331               -0.747345   \n",
            "521                  0.175849               -0.322947   \n",
            "522                 -0.719552                0.856670   \n",
            "523                  0.623314               -0.277915   \n",
            "\n",
            "     cleaned_description_sentiment  cleaned_title_sentiment label  \\\n",
            "519                      -0.357763                 0.704741  Fake   \n",
            "520                       1.828664                -0.198857  Fake   \n",
            "521                       0.377672                 0.417232  Fake   \n",
            "522                       1.203971                -0.198857  Fake   \n",
            "523                      -0.357763                -0.198857  Fake   \n",
            "\n",
            "            source                                       cleaned_text  \n",
            "519  LLM Generated  excit anticip air royal famili get readi welco...  \n",
            "520  LLM Generated  wake kim kardashian traumat pari roberi realit...  \n",
            "521  LLM Generated  uke duch susex princ hari meghan markl may liv...  \n",
            "522  LLM Generated  surpris turn event former presid barack obama ...  \n",
            "523  LLM Generated  unexpect turn event holywod actr jenif garner ...  \n",
            "   text_length_before  description_length_before  title_length_before  \\\n",
            "0           -0.158926                   2.020107             0.004766   \n",
            "1           -0.330207                   1.981057            -0.007190   \n",
            "2           -0.239516                   1.239106            -0.063983   \n",
            "3           -0.335580                   4.158095             0.034656   \n",
            "4           -0.269173                  -0.654819             0.013733   \n",
            "\n",
            "   text_length_after  description_length_after  title_length_after  \\\n",
            "0          -0.158926                  2.020107            0.004766   \n",
            "1          -0.330207                  1.981057           -0.007190   \n",
            "2          -0.239516                  1.239106           -0.063983   \n",
            "3          -0.335580                  4.158095            0.034656   \n",
            "4          -0.269173                 -0.654819            0.013733   \n",
            "\n",
            "   text_readability_before  description_readability_before  \\\n",
            "0                -2.340435                       -2.131953   \n",
            "1                -1.582423                       -0.092149   \n",
            "2                -1.132797                       -0.992373   \n",
            "3                -2.354642                        0.003999   \n",
            "4                -1.150348                       -2.173334   \n",
            "\n",
            "   title_readability_before  cleaned_text_sentiment  \\\n",
            "0                 -2.270794                0.414293   \n",
            "1                 -1.071570               -0.524327   \n",
            "2                 -1.375392               -0.518088   \n",
            "3                 -1.614953               -1.655500   \n",
            "4                 -3.070276                2.014648   \n",
            "\n",
            "   cleaned_description_sentiment  cleaned_title_sentiment label  \\\n",
            "0                      -0.357763                -0.198857  Fake   \n",
            "1                       0.735451                -0.198857  Fake   \n",
            "2                      -0.413417                -1.403654  Fake   \n",
            "3                      -2.056929                -0.198857  Fake   \n",
            "4                      -0.357763                -0.198857  Fake   \n",
            "\n",
            "          source                                       cleaned_text  \n",
            "0  LLM Generated  inia state repres mark cole propos bil creat p...  \n",
            "1  LLM Generated  whopi goldberg found midl firestorm controvers...  \n",
            "2  LLM Generated  former secret servic agent writen new telal bo...  \n",
            "3  LLM Generated  apear major blow credibl conserv news pundit s...  \n",
            "4  LLM Generated  shock turn event florida governor rick scot ma...  \n"
          ]
        }
      ],
      "source": [
        "# List of columns to keep, which includes the scaled columns and the 'source_label' column\n",
        "columns_to_keep = columns_to_standardize + ['label', 'source', 'cleaned_text']\n",
        "\n",
        "# Create a new DataFrame with only the selected columns\n",
        "combined_df1 = combined_df[columns_to_keep]\n",
        "gossipcop_df1 = gossipcop_df[columns_to_keep]\n",
        "politifact_df1 = politifact_df[columns_to_keep]\n",
        "\n",
        "# Print the first few rows of the new DataFrame to verify\n",
        "print(combined_df1.head())\n",
        "print(gossipcop_df1.head())\n",
        "print(politifact_df1.head())"
      ]
    },
    {
      "cell_type": "markdown",
      "metadata": {
        "id": "S39qfLbtac7H"
      },
      "source": [
        "### One hot Encoding"
      ]
    },
    {
      "cell_type": "code",
      "execution_count": null,
      "metadata": {
        "colab": {
          "base_uri": "https://localhost:8080/"
        },
        "id": "Lc3CBm1Ua4Aa",
        "outputId": "1b0c2f2c-fcb3-4414-cb00-4d263b33d1e8"
      },
      "outputs": [
        {
          "output_type": "execute_result",
          "data": {
            "text/plain": [
              "Index(['text_length_before', 'description_length_before',\n",
              "       'title_length_before', 'text_length_after', 'description_length_after',\n",
              "       'title_length_after', 'text_readability_before',\n",
              "       'description_readability_before', 'title_readability_before',\n",
              "       'cleaned_text_sentiment', 'cleaned_description_sentiment',\n",
              "       'cleaned_title_sentiment', 'label', 'source', 'cleaned_text'],\n",
              "      dtype='object')"
            ]
          },
          "metadata": {},
          "execution_count": 75
        }
      ],
      "source": [
        "combined_df1.columns"
      ]
    },
    {
      "cell_type": "code",
      "execution_count": null,
      "metadata": {
        "colab": {
          "base_uri": "https://localhost:8080/"
        },
        "id": "vugGbgbsysmP",
        "outputId": "858a01b5-064b-440e-9ae1-5f3dab2b86e0"
      },
      "outputs": [
        {
          "output_type": "stream",
          "name": "stderr",
          "text": [
            "/usr/local/lib/python3.10/dist-packages/sklearn/preprocessing/_encoders.py:868: FutureWarning: `sparse` was renamed to `sparse_output` in version 1.2 and will be removed in 1.4. `sparse_output` is ignored unless you leave `sparse` to its default value.\n",
            "  warnings.warn(\n"
          ]
        }
      ],
      "source": [
        "from sklearn.preprocessing import OneHotEncoder\n",
        "\n",
        "# Initialize the OneHotEncoder\n",
        "encoder = OneHotEncoder(sparse=False, dtype=int)  # Setting dtype=int to ensure integer output\n",
        "\n",
        "# Fit and transform both 'label' and 'source' columns\n",
        "encoded_columns = encoder.fit_transform(combined_df1[['label', 'source']])\n",
        "\n",
        "# Convert the encoded columns into a DataFrame with proper column names\n",
        "encoded_df = pd.DataFrame(encoded_columns, columns=encoder.get_feature_names_out(['label', 'source']))\n",
        "\n",
        "# Concatenate the encoded columns back to the original dataframe\n",
        "combined_df1 = pd.concat([combined_df1, encoded_df], axis=1)\n",
        "\n",
        "# Optionally, drop the original 'label' and 'source' columns\n",
        "combined_df1 = combined_df1.drop(['label', 'source'], axis=1)"
      ]
    },
    {
      "cell_type": "code",
      "execution_count": null,
      "metadata": {
        "colab": {
          "base_uri": "https://localhost:8080/"
        },
        "id": "iOwsUkANbFrC",
        "outputId": "44f8471a-cf9c-461a-f556-8f909602131e"
      },
      "outputs": [
        {
          "output_type": "execute_result",
          "data": {
            "text/plain": [
              "Index(['text_length_before', 'description_length_before',\n",
              "       'title_length_before', 'text_length_after', 'description_length_after',\n",
              "       'title_length_after', 'text_readability_before',\n",
              "       'description_readability_before', 'title_readability_before',\n",
              "       'cleaned_text_sentiment', 'cleaned_description_sentiment',\n",
              "       'cleaned_title_sentiment', 'cleaned_text', 'label_Fake', 'label_Real',\n",
              "       'source_Human Written', 'source_LLM Generated'],\n",
              "      dtype='object')"
            ]
          },
          "metadata": {},
          "execution_count": 77
        }
      ],
      "source": [
        "combined_df1.columns"
      ]
    },
    {
      "cell_type": "code",
      "execution_count": null,
      "metadata": {
        "id": "G5xCAgUo015B"
      },
      "outputs": [],
      "source": [
        "# Dropping the columns related to the target\n",
        "combined_df1 = combined_df1.drop(['label_Real','source_Human Written'], axis=1)"
      ]
    },
    {
      "cell_type": "code",
      "execution_count": null,
      "metadata": {
        "colab": {
          "base_uri": "https://localhost:8080/"
        },
        "id": "sNJQl55pbLn-",
        "outputId": "dc6afadb-e71c-434a-9f5a-856db632cc98"
      },
      "outputs": [
        {
          "output_type": "execute_result",
          "data": {
            "text/plain": [
              "Index(['text_length_before', 'description_length_before',\n",
              "       'title_length_before', 'text_length_after', 'description_length_after',\n",
              "       'title_length_after', 'text_readability_before',\n",
              "       'description_readability_before', 'title_readability_before',\n",
              "       'cleaned_text_sentiment', 'cleaned_description_sentiment',\n",
              "       'cleaned_title_sentiment', 'cleaned_text', 'label_Fake',\n",
              "       'source_LLM Generated'],\n",
              "      dtype='object')"
            ]
          },
          "metadata": {},
          "execution_count": 79
        }
      ],
      "source": [
        "combined_df1.columns"
      ]
    },
    {
      "cell_type": "markdown",
      "metadata": {
        "id": "zb6Lenhwi-g2"
      },
      "source": [
        "### TF-IDF"
      ]
    },
    {
      "cell_type": "code",
      "execution_count": null,
      "metadata": {
        "colab": {
          "base_uri": "https://localhost:8080/"
        },
        "id": "8s6Wqf14bjNY",
        "outputId": "849d9d90-1882-4ed4-acc0-395207804e30"
      },
      "outputs": [
        {
          "output_type": "stream",
          "name": "stdout",
          "text": [
            "   text_length_before  description_length_before  title_length_before  \\\n",
            "0           -0.158926                   2.020107             0.004766   \n",
            "1           -0.330207                   1.981057            -0.007190   \n",
            "2           -0.239516                   1.239106            -0.063983   \n",
            "3           -0.335580                   4.158095             0.034656   \n",
            "4           -0.269173                  -0.654819             0.013733   \n",
            "\n",
            "   text_length_after  description_length_after  title_length_after  \\\n",
            "0          -0.158926                  2.020107            0.004766   \n",
            "1          -0.330207                  1.981057           -0.007190   \n",
            "2          -0.239516                  1.239106           -0.063983   \n",
            "3          -0.335580                  4.158095            0.034656   \n",
            "4          -0.269173                 -0.654819            0.013733   \n",
            "\n",
            "   text_readability_before  description_readability_before  \\\n",
            "0                -2.340435                       -2.131953   \n",
            "1                -1.582423                       -0.092149   \n",
            "2                -1.132797                       -0.992373   \n",
            "3                -2.354642                        0.003999   \n",
            "4                -1.150348                       -2.173334   \n",
            "\n",
            "   title_readability_before  cleaned_text_sentiment  ...  world  worth  write  \\\n",
            "0                 -2.270794                0.414293  ...    0.0    0.0    0.0   \n",
            "1                 -1.071570               -0.524327  ...    0.0    0.0    0.0   \n",
            "2                 -1.375392               -0.518088  ...    0.0    0.0    0.0   \n",
            "3                 -1.614953               -1.655500  ...    0.0    0.0    0.0   \n",
            "4                 -3.070276                2.014648  ...    0.0    0.0    0.0   \n",
            "\n",
            "   wrong  wrote   ye  year  york  young  youtub  \n",
            "0    0.0    0.0  0.0   0.0   0.0    0.0     0.0  \n",
            "1    0.0    0.0  0.0   0.0   0.0    0.0     0.0  \n",
            "2    0.0    0.0  0.0   0.0   0.0    0.0     0.0  \n",
            "3    0.0    0.0  0.0   0.0   0.0    0.0     0.0  \n",
            "4    0.0    0.0  0.0   0.0   0.0    0.0     0.0  \n",
            "\n",
            "[5 rows x 1014 columns]\n"
          ]
        }
      ],
      "source": [
        "from sklearn.feature_extraction.text import TfidfVectorizer\n",
        "import pandas as pd\n",
        "\n",
        "# Initialize the TF-IDF Vectorizer\n",
        "tfidf_vectorizer = TfidfVectorizer(max_features=1000, stop_words='english')  # Adjust max_features as needed\n",
        "\n",
        "# Apply TF-IDF on the 'cleaned_text' column\n",
        "tfidf_matrix = tfidf_vectorizer.fit_transform(combined_df1['cleaned_text'])\n",
        "\n",
        "# Convert the TF-IDF matrix to a DataFrame for easier handling\n",
        "tfidf_df = pd.DataFrame(tfidf_matrix.toarray(), columns=tfidf_vectorizer.get_feature_names_out())\n",
        "\n",
        "# Combine the TF-IDF features with the original DataFrame (excluding 'cleaned_text')\n",
        "combined_df1_tfidf = pd.concat([combined_df1.drop('cleaned_text', axis=1).reset_index(drop=True), tfidf_df.reset_index(drop=True)], axis=1)\n",
        "\n",
        "# Display the first few rows of the updated DataFrame\n",
        "print(combined_df1_tfidf.head())"
      ]
    },
    {
      "cell_type": "code",
      "execution_count": null,
      "metadata": {
        "colab": {
          "base_uri": "https://localhost:8080/"
        },
        "id": "doUeMrmybn3K",
        "outputId": "5da4f561-cddf-436a-83d9-d9af0049be13"
      },
      "outputs": [
        {
          "output_type": "execute_result",
          "data": {
            "text/plain": [
              "(21024, 1014)"
            ]
          },
          "metadata": {},
          "execution_count": 81
        }
      ],
      "source": [
        "combined_df1_tfidf.shape"
      ]
    },
    {
      "cell_type": "code",
      "execution_count": null,
      "metadata": {
        "colab": {
          "base_uri": "https://localhost:8080/"
        },
        "id": "lLG0EJHFcjdJ",
        "outputId": "b1bbf62e-1c15-48d8-f257-bd361caa6a13"
      },
      "outputs": [
        {
          "output_type": "execute_result",
          "data": {
            "text/plain": [
              "Index(['text_length_before', 'description_length_before',\n",
              "       'title_length_before', 'text_length_after', 'description_length_after',\n",
              "       'title_length_after', 'text_readability_before',\n",
              "       'description_readability_before', 'title_readability_before',\n",
              "       'cleaned_text_sentiment',\n",
              "       ...\n",
              "       'world', 'worth', 'write', 'wrong', 'wrote', 'ye', 'year', 'york',\n",
              "       'young', 'youtub'],\n",
              "      dtype='object', length=1014)"
            ]
          },
          "metadata": {},
          "execution_count": 82
        }
      ],
      "source": [
        "combined_df1_tfidf.columns"
      ]
    },
    {
      "cell_type": "markdown",
      "metadata": {
        "id": "W_nPftxY2Qtj"
      },
      "source": [
        "##### Distribution of the target column"
      ]
    },
    {
      "cell_type": "code",
      "execution_count": null,
      "metadata": {
        "colab": {
          "base_uri": "https://localhost:8080/"
        },
        "id": "99cxGy6rkvqt",
        "outputId": "066c29ec-671a-4b39-bd99-9090e3722986"
      },
      "outputs": [
        {
          "output_type": "stream",
          "name": "stdout",
          "text": [
            "label_Fake\n",
            "0    12662\n",
            "1     8362\n",
            "Name: count, dtype: int64\n"
          ]
        }
      ],
      "source": [
        "class_distribution = combined_df1['label_Fake'].value_counts()\n",
        "print(class_distribution)"
      ]
    },
    {
      "cell_type": "code",
      "source": [
        "# Check if 'source_LLM Generated' exists in combined_df1_tfidf\n",
        "if 'source_LLM Generated' in combined_df1_tfidf.columns:\n",
        "    print(\"'source_LLM Generated' exists in combined_df1_tfidf\")\n",
        "else:\n",
        "    print(\"'source_LLM Generated' does not exist in combined_df1_tfidf\")\n"
      ],
      "metadata": {
        "colab": {
          "base_uri": "https://localhost:8080/"
        },
        "id": "tuYxV3jeflS0",
        "outputId": "780d6ac1-7d4f-470a-a060-5558be5b51dd"
      },
      "execution_count": null,
      "outputs": [
        {
          "output_type": "stream",
          "name": "stdout",
          "text": [
            "'source_LLM Generated' exists in combined_df1_tfidf\n"
          ]
        }
      ]
    },
    {
      "cell_type": "markdown",
      "metadata": {
        "id": "xsffsTqUtA0l"
      },
      "source": [
        "## Dataset Splitting"
      ]
    },
    {
      "cell_type": "code",
      "execution_count": null,
      "metadata": {
        "colab": {
          "base_uri": "https://localhost:8080/"
        },
        "id": "459SpR9NtNsg",
        "outputId": "ee8e66f4-efa6-4560-ff44-758aafb96bd5"
      },
      "outputs": [
        {
          "output_type": "stream",
          "name": "stdout",
          "text": [
            "X_train shape: (14716, 1013)\n",
            "X_test shape: (6308, 1013)\n",
            "y_train shape: (14716,)\n",
            "y_test shape: (6308,)\n"
          ]
        }
      ],
      "source": [
        "from sklearn.model_selection import train_test_split\n",
        "\n",
        "df = combined_df1_tfidf\n",
        "\n",
        "# Define X (features) and y (target)\n",
        "X = df.drop('label_Fake', axis=1)  # Features (all columns except the target)\n",
        "y = df['label_Fake']  # Target column\n",
        "\n",
        "# Split the data into training and testing sets\n",
        "X_train, X_test, y_train, y_test = train_test_split(X, y, test_size=0.3, random_state=42, stratify=y)\n",
        "\n",
        "# Print the shapes of the resulting datasets\n",
        "print(f\"X_train shape: {X_train.shape}\")\n",
        "print(f\"X_test shape: {X_test.shape}\")\n",
        "print(f\"y_train shape: {y_train.shape}\")\n",
        "print(f\"y_test shape: {y_test.shape}\")\n"
      ]
    },
    {
      "cell_type": "code",
      "source": [
        "# Check if 'source_LLM Generated' exists in X_train\n",
        "if 'source_LLM Generated' in X_train.columns:\n",
        "    print(\"'source_LLM Generated' exists in X_train\")\n",
        "else:\n",
        "    print(\"'source_LLM Generated' does not exist in X_train\")\n",
        "\n",
        "# Check if 'source_LLM Generated' exists in X_test\n",
        "if 'source_LLM Generated' in X_test.columns:\n",
        "    print(\"'source_LLM Generated' exists in X_test\")\n",
        "else:\n",
        "    print(\"'source_LLM Generated' does not exist in X_test\")\n"
      ],
      "metadata": {
        "colab": {
          "base_uri": "https://localhost:8080/"
        },
        "id": "VPlnPUHDf2Gs",
        "outputId": "5ce95dec-db7e-4d90-938f-d83e9d5454f5"
      },
      "execution_count": null,
      "outputs": [
        {
          "output_type": "stream",
          "name": "stdout",
          "text": [
            "'source_LLM Generated' exists in X_train\n",
            "'source_LLM Generated' exists in X_test\n"
          ]
        }
      ]
    },
    {
      "cell_type": "markdown",
      "metadata": {
        "id": "M4MetEnevXhg"
      },
      "source": [
        "### Balancing the training set"
      ]
    },
    {
      "cell_type": "code",
      "execution_count": null,
      "metadata": {
        "colab": {
          "base_uri": "https://localhost:8080/"
        },
        "id": "kkLnzkYBsN59",
        "outputId": "fa2bf6a5-78f7-4704-8053-3170a2eecd07"
      },
      "outputs": [
        {
          "output_type": "stream",
          "name": "stdout",
          "text": [
            "Original class distribution in y_train: Counter({0: 8863, 1: 5853})\n"
          ]
        }
      ],
      "source": [
        "from collections import Counter\n",
        "\n",
        "# Check the distribution of classes in y_train\n",
        "class_distribution = Counter(y_train)\n",
        "print(f\"Original class distribution in y_train: {class_distribution}\")"
      ]
    },
    {
      "cell_type": "code",
      "execution_count": null,
      "metadata": {
        "colab": {
          "base_uri": "https://localhost:8080/"
        },
        "id": "6G46ul30cpDo",
        "outputId": "01b76c55-151b-46f6-d123-010da3a45392"
      },
      "outputs": [
        {
          "output_type": "stream",
          "name": "stdout",
          "text": [
            "Resampled target distribution: Counter({0: 8863, 1: 8863})\n"
          ]
        }
      ],
      "source": [
        "from imblearn.over_sampling import SMOTE\n",
        "\n",
        "# Initialize SMOTE\n",
        "smote = SMOTE(random_state=42)\n",
        "\n",
        "# Apply SMOTE to the training data\n",
        "X_train_resampled, y_train_resampled = smote.fit_resample(X_train, y_train)\n",
        "\n",
        "# Check the new class distribution\n",
        "from collections import Counter\n",
        "print(f\"Resampled target distribution: {Counter(y_train_resampled)}\")"
      ]
    },
    {
      "cell_type": "code",
      "source": [
        "# Check if 'source_LLM Generated' exists in X_train_resampled\n",
        "if 'source_LLM Generated' in X_train_resampled.columns:\n",
        "    print(\"'source_LLM Generated' exists in X_train_resampled\")\n",
        "else:\n",
        "    print(\"'source_LLM Generated' does not exist in X_train_resampled\")\n"
      ],
      "metadata": {
        "colab": {
          "base_uri": "https://localhost:8080/"
        },
        "id": "bFs7mqXsgAv4",
        "outputId": "88389c30-a1db-4670-ca42-72c05091e79c"
      },
      "execution_count": null,
      "outputs": [
        {
          "output_type": "stream",
          "name": "stdout",
          "text": [
            "'source_LLM Generated' exists in X_train_resampled\n"
          ]
        }
      ]
    },
    {
      "cell_type": "code",
      "source": [
        "# Check if 'source_LLM Generated' exists in X_test\n",
        "if 'source_LLM Generated' in X_test.columns:\n",
        "    print(\"'source_LLM Generated' exists in X_test\")\n",
        "else:\n",
        "    print(\"'source_LLM Generated' does not exist in X_test\")\n"
      ],
      "metadata": {
        "colab": {
          "base_uri": "https://localhost:8080/"
        },
        "id": "xYdRH3crh2F3",
        "outputId": "35efaf39-c0f3-446a-8cf4-d0594adb7fd9"
      },
      "execution_count": null,
      "outputs": [
        {
          "output_type": "stream",
          "name": "stdout",
          "text": [
            "'source_LLM Generated' exists in X_test\n"
          ]
        }
      ]
    },
    {
      "cell_type": "markdown",
      "source": [
        "## Neural Netwroks"
      ],
      "metadata": {
        "id": "vkVw8q00uEi7"
      }
    },
    {
      "cell_type": "markdown",
      "source": [
        "### Train and Evaluate the Initial NN Model"
      ],
      "metadata": {
        "id": "wDrl5Gl5Rg4m"
      }
    },
    {
      "cell_type": "code",
      "source": [
        "import tensorflow as tf\n",
        "from tensorflow.keras.models import Sequential\n",
        "from tensorflow.keras.layers import Dense\n",
        "from sklearn.metrics import accuracy_score, precision_score, recall_score, f1_score, confusion_matrix\n",
        "\n",
        "# Define the Neural Network model\n",
        "model = Sequential()\n",
        "\n",
        "# Input layer and the first hidden layer with ReLU activation\n",
        "model.add(Dense(128, input_dim=X_train_resampled.shape[1], activation='relu'))\n",
        "\n",
        "# Second hidden layer\n",
        "model.add(Dense(64, activation='relu'))\n",
        "\n",
        "# Output layer with sigmoid for binary classification\n",
        "model.add(Dense(1, activation='sigmoid'))\n",
        "\n",
        "# Compile the model\n",
        "# - Binary crossentropy is used for binary classification\n",
        "# - Adam optimizer with a learning rate of 0.001\n",
        "model.compile(loss='binary_crossentropy', optimizer='adam', metrics=['accuracy'])\n",
        "\n",
        "# Train the model\n",
        "# - Use validation_data as the test set to monitor performance\n",
        "model.fit(X_train_resampled, y_train_resampled, epochs=10, batch_size=32, validation_data=(X_test, y_test))\n",
        "\n",
        "# Make predictions on the test set\n",
        "y_pred_prob = model.predict(X_test)\n",
        "y_pred = (y_pred_prob > 0.5).astype(\"int32\").ravel()  # Convert probabilities to class labels (0 or 1)\n",
        "\n",
        "# Evaluate the Neural Network model on the test set\n",
        "accuracy = accuracy_score(y_test, y_pred)\n",
        "precision = precision_score(y_test, y_pred, average='weighted')\n",
        "recall = recall_score(y_test, y_pred, average='weighted')\n",
        "f1 = f1_score(y_test, y_pred, average='weighted')\n",
        "\n",
        "print(f\"Neural Network Model - Accuracy: {accuracy:.4f}\")\n",
        "print(f\"Neural Network Model - Precision: {precision:.4f}\")\n",
        "print(f\"Neural Network Model - Recall: {recall:.4f}\")\n",
        "print(f\"Neural Network Model - F1-Score: {f1:.4f}\")\n",
        "\n",
        "# Confusion matrix\n",
        "conf_matrix = confusion_matrix(y_test, y_pred)\n",
        "print(\"Confusion Matrix:\")\n",
        "print(conf_matrix)"
      ],
      "metadata": {
        "colab": {
          "base_uri": "https://localhost:8080/"
        },
        "id": "DTYIL0RbuErZ",
        "outputId": "3b42bada-a1ca-4dc7-9578-fd68c44a3975"
      },
      "execution_count": null,
      "outputs": [
        {
          "output_type": "stream",
          "name": "stdout",
          "text": [
            "Epoch 1/10\n",
            "554/554 [==============================] - 3s 4ms/step - loss: 0.3869 - accuracy: 0.8224 - val_loss: 0.3388 - val_accuracy: 0.8527\n",
            "Epoch 2/10\n",
            "554/554 [==============================] - 2s 4ms/step - loss: 0.2750 - accuracy: 0.8827 - val_loss: 0.3166 - val_accuracy: 0.8637\n",
            "Epoch 3/10\n",
            "554/554 [==============================] - 2s 4ms/step - loss: 0.2175 - accuracy: 0.9122 - val_loss: 0.3252 - val_accuracy: 0.8667\n",
            "Epoch 4/10\n",
            "554/554 [==============================] - 2s 4ms/step - loss: 0.1577 - accuracy: 0.9390 - val_loss: 0.3685 - val_accuracy: 0.8496\n",
            "Epoch 5/10\n",
            "554/554 [==============================] - 2s 4ms/step - loss: 0.1045 - accuracy: 0.9627 - val_loss: 0.4225 - val_accuracy: 0.8588\n",
            "Epoch 6/10\n",
            "554/554 [==============================] - 2s 4ms/step - loss: 0.0693 - accuracy: 0.9767 - val_loss: 0.4897 - val_accuracy: 0.8611\n",
            "Epoch 7/10\n",
            "554/554 [==============================] - 2s 4ms/step - loss: 0.0495 - accuracy: 0.9830 - val_loss: 0.5451 - val_accuracy: 0.8602\n",
            "Epoch 8/10\n",
            "554/554 [==============================] - 2s 4ms/step - loss: 0.0385 - accuracy: 0.9876 - val_loss: 0.5975 - val_accuracy: 0.8503\n",
            "Epoch 9/10\n",
            "554/554 [==============================] - 2s 4ms/step - loss: 0.0294 - accuracy: 0.9895 - val_loss: 0.6522 - val_accuracy: 0.8546\n",
            "Epoch 10/10\n",
            "554/554 [==============================] - 2s 4ms/step - loss: 0.0226 - accuracy: 0.9909 - val_loss: 0.7213 - val_accuracy: 0.8570\n",
            "198/198 [==============================] - 0s 2ms/step\n",
            "Neural Network Model - Accuracy: 0.8570\n",
            "Neural Network Model - Precision: 0.8572\n",
            "Neural Network Model - Recall: 0.8570\n",
            "Neural Network Model - F1-Score: 0.8571\n",
            "Confusion Matrix:\n",
            "[[3339  460]\n",
            " [ 442 2067]]\n"
          ]
        }
      ]
    },
    {
      "cell_type": "markdown",
      "source": [
        "### Tune and Evaluate the NN Model"
      ],
      "metadata": {
        "id": "b511BmvrRoHt"
      }
    },
    {
      "cell_type": "code",
      "source": [
        "from tensorflow.keras.layers import Dropout\n",
        "\n",
        "# Define a new Neural Network model with Dropout\n",
        "model = Sequential()\n",
        "\n",
        "# Input layer and first hidden layer with ReLU activation\n",
        "model.add(Dense(128, input_dim=X_train_resampled.shape[1], activation='relu'))\n",
        "model.add(Dropout(0.3))  # Add Dropout to prevent overfitting\n",
        "\n",
        "# Second hidden layer\n",
        "model.add(Dense(64, activation='relu'))\n",
        "model.add(Dropout(0.3))\n",
        "\n",
        "# Output layer with sigmoid for binary classification\n",
        "model.add(Dense(1, activation='sigmoid'))\n",
        "\n",
        "# Compile the model with Adam optimizer and a lower learning rate\n",
        "model.compile(loss='binary_crossentropy', optimizer=tf.keras.optimizers.Adam(learning_rate=0.0005), metrics=['accuracy'])\n",
        "\n",
        "# Train the model\n",
        "model.fit(X_train_resampled, y_train_resampled, epochs=20, batch_size=64, validation_data=(X_test, y_test))\n",
        "\n",
        "# Make predictions on the test set\n",
        "y_pred_prob = model.predict(X_test)\n",
        "y_pred = (y_pred_prob > 0.5).astype(\"int32\").ravel()\n",
        "\n",
        "# Evaluate the tuned Neural Network model\n",
        "accuracy = accuracy_score(y_test, y_pred)\n",
        "precision = precision_score(y_test, y_pred, average='weighted')\n",
        "recall = recall_score(y_test, y_pred, average='weighted')\n",
        "f1 = f1_score(y_test, y_pred, average='weighted')\n",
        "\n",
        "print(f\"Tuned Neural Network Model - Accuracy: {accuracy:.4f}\")\n",
        "print(f\"Tuned Neural Network Model - Precision: {precision:.4f}\")\n",
        "print(f\"Tuned Neural Network Model - Recall: {recall:.4f}\")\n",
        "print(f\"Tuned Neural Network Model - F1-Score: {f1:.4f}\")\n",
        "\n",
        "# Confusion matrix\n",
        "conf_matrix = confusion_matrix(y_test, y_pred)\n",
        "print(\"Confusion Matrix:\")\n",
        "print(conf_matrix)\n"
      ],
      "metadata": {
        "colab": {
          "base_uri": "https://localhost:8080/"
        },
        "id": "MWHLXrRtmm7M",
        "outputId": "e9f280a7-e372-4799-f049-2239b425b8b4"
      },
      "execution_count": null,
      "outputs": [
        {
          "output_type": "stream",
          "name": "stdout",
          "text": [
            "Epoch 1/20\n",
            "277/277 [==============================] - 2s 5ms/step - loss: 0.5152 - accuracy: 0.7503 - val_loss: 0.3624 - val_accuracy: 0.8408\n",
            "Epoch 2/20\n",
            "277/277 [==============================] - 1s 5ms/step - loss: 0.3470 - accuracy: 0.8476 - val_loss: 0.3395 - val_accuracy: 0.8492\n",
            "Epoch 3/20\n",
            "277/277 [==============================] - 1s 5ms/step - loss: 0.3095 - accuracy: 0.8678 - val_loss: 0.3294 - val_accuracy: 0.8565\n",
            "Epoch 4/20\n",
            "277/277 [==============================] - 1s 4ms/step - loss: 0.2799 - accuracy: 0.8820 - val_loss: 0.3335 - val_accuracy: 0.8546\n",
            "Epoch 5/20\n",
            "277/277 [==============================] - 1s 4ms/step - loss: 0.2545 - accuracy: 0.8950 - val_loss: 0.3291 - val_accuracy: 0.8602\n",
            "Epoch 6/20\n",
            "277/277 [==============================] - 1s 5ms/step - loss: 0.2330 - accuracy: 0.9053 - val_loss: 0.3395 - val_accuracy: 0.8510\n",
            "Epoch 7/20\n",
            "277/277 [==============================] - 1s 4ms/step - loss: 0.2129 - accuracy: 0.9149 - val_loss: 0.3471 - val_accuracy: 0.8567\n",
            "Epoch 8/20\n",
            "277/277 [==============================] - 1s 5ms/step - loss: 0.1866 - accuracy: 0.9278 - val_loss: 0.3479 - val_accuracy: 0.8649\n",
            "Epoch 9/20\n",
            "277/277 [==============================] - 1s 5ms/step - loss: 0.1644 - accuracy: 0.9375 - val_loss: 0.3600 - val_accuracy: 0.8581\n",
            "Epoch 10/20\n",
            "277/277 [==============================] - 1s 5ms/step - loss: 0.1447 - accuracy: 0.9477 - val_loss: 0.3710 - val_accuracy: 0.8667\n",
            "Epoch 11/20\n",
            "277/277 [==============================] - 1s 5ms/step - loss: 0.1299 - accuracy: 0.9545 - val_loss: 0.3772 - val_accuracy: 0.8654\n",
            "Epoch 12/20\n",
            "277/277 [==============================] - 1s 5ms/step - loss: 0.1117 - accuracy: 0.9632 - val_loss: 0.3955 - val_accuracy: 0.8602\n",
            "Epoch 13/20\n",
            "277/277 [==============================] - 1s 4ms/step - loss: 0.0961 - accuracy: 0.9676 - val_loss: 0.4140 - val_accuracy: 0.8559\n",
            "Epoch 14/20\n",
            "277/277 [==============================] - 1s 4ms/step - loss: 0.0883 - accuracy: 0.9722 - val_loss: 0.4327 - val_accuracy: 0.8613\n",
            "Epoch 15/20\n",
            "277/277 [==============================] - 1s 4ms/step - loss: 0.0710 - accuracy: 0.9765 - val_loss: 0.4596 - val_accuracy: 0.8556\n",
            "Epoch 16/20\n",
            "277/277 [==============================] - 1s 4ms/step - loss: 0.0660 - accuracy: 0.9791 - val_loss: 0.4623 - val_accuracy: 0.8595\n",
            "Epoch 17/20\n",
            "277/277 [==============================] - 1s 5ms/step - loss: 0.0571 - accuracy: 0.9818 - val_loss: 0.4793 - val_accuracy: 0.8610\n",
            "Epoch 18/20\n",
            "277/277 [==============================] - 1s 4ms/step - loss: 0.0529 - accuracy: 0.9817 - val_loss: 0.5001 - val_accuracy: 0.8589\n",
            "Epoch 19/20\n",
            "277/277 [==============================] - 1s 4ms/step - loss: 0.0495 - accuracy: 0.9838 - val_loss: 0.5234 - val_accuracy: 0.8573\n",
            "Epoch 20/20\n",
            "277/277 [==============================] - 1s 5ms/step - loss: 0.0463 - accuracy: 0.9856 - val_loss: 0.5374 - val_accuracy: 0.8573\n",
            "198/198 [==============================] - 0s 2ms/step\n",
            "Tuned Neural Network Model - Accuracy: 0.8573\n",
            "Tuned Neural Network Model - Precision: 0.8571\n",
            "Tuned Neural Network Model - Recall: 0.8573\n",
            "Tuned Neural Network Model - F1-Score: 0.8572\n",
            "Confusion Matrix:\n",
            "[[3365  434]\n",
            " [ 466 2043]]\n"
          ]
        }
      ]
    },
    {
      "cell_type": "markdown",
      "source": [
        "### Evaluate the Fairness of the NN Model"
      ],
      "metadata": {
        "id": "DZqB3mu2Razi"
      }
    },
    {
      "cell_type": "code",
      "source": [
        "import numpy as np\n",
        "from sklearn.metrics import precision_score, recall_score, confusion_matrix\n",
        "\n",
        "# Assuming `sensitive_attr` holds the sensitive attribute 'source_LLM Generated' (0s and 1s)\n",
        "sensitive_attr = X_test['source_LLM Generated']  # Ensure this is the correct column name\n",
        "\n",
        "# Get predictions from the tuned model (already computed as `y_pred`)\n",
        "# y_pred already exists from previous tuned model evaluation code\n",
        "\n",
        "# Split predictions and true labels based on the sensitive attribute\n",
        "y_true_0 = y_test[sensitive_attr == 0]\n",
        "y_pred_0 = y_pred[sensitive_attr == 0]\n",
        "\n",
        "y_true_1 = y_test[sensitive_attr == 1]\n",
        "y_pred_1 = y_pred[sensitive_attr == 1]\n",
        "\n",
        "# 1. Demographic Parity\n",
        "# Proportion of positive predictions for both groups\n",
        "demographic_parity_0 = np.mean(y_pred_0)\n",
        "demographic_parity_1 = np.mean(y_pred_1)\n",
        "demographic_parity_diff = demographic_parity_1 - demographic_parity_0\n",
        "\n",
        "print(f\"Demographic Parity - Group 0: {demographic_parity_0:.4f}, Group 1: {demographic_parity_1:.4f}\")\n",
        "print(f\"Difference in Demographic Parity: {demographic_parity_diff:.4f}\")\n",
        "\n",
        "# 2. Equal Opportunity (True Positive Rate comparison)\n",
        "# TPR for both groups\n",
        "true_positives_0 = np.sum((y_true_0 == 1) & (y_pred_0 == 1))\n",
        "true_positives_1 = np.sum((y_true_1 == 1) & (y_pred_1 == 1))\n",
        "\n",
        "tpr_0 = true_positives_0 / np.sum(y_true_0 == 1)\n",
        "tpr_1 = true_positives_1 / np.sum(y_true_1 == 1)\n",
        "equal_opportunity_diff = tpr_1 - tpr_0\n",
        "\n",
        "print(f\"Equal Opportunity - TPR for Group 0: {tpr_0:.4f}, Group 1: {tpr_1:.4f}\")\n",
        "print(f\"Difference in Equal Opportunity (TPR): {equal_opportunity_diff:.4f}\")\n",
        "\n",
        "# 3. Equalized Odds (TPR and FPR comparison)\n",
        "# FPR for both groups\n",
        "false_positives_0 = np.sum((y_true_0 == 0) & (y_pred_0 == 1))\n",
        "false_positives_1 = np.sum((y_true_1 == 0) & (y_pred_1 == 1))\n",
        "\n",
        "fpr_0 = false_positives_0 / np.sum(y_true_0 == 0)\n",
        "fpr_1 = false_positives_1 / np.sum(y_true_1 == 0)\n",
        "equalized_odds_tpr_diff = tpr_1 - tpr_0\n",
        "equalized_odds_fpr_diff = fpr_0 - fpr_1\n",
        "\n",
        "print(f\"Equalized Odds - TPR for Group 0: {tpr_0:.4f}, Group 1: {tpr_1:.4f}\")\n",
        "print(f\"Equalized Odds - FPR for Group 0: {fpr_0:.4f}, Group 1: {fpr_1:.4f}\")\n",
        "print(f\"Difference in TPR (Equalized Odds): {equalized_odds_tpr_diff:.4f}\")\n",
        "print(f\"Difference in FPR (Equalized Odds): {equalized_odds_fpr_diff:.4f}\")\n",
        "\n",
        "# 4. Predictive Parity (Precision comparison)\n",
        "precision_0 = precision_score(y_true_0, y_pred_0)\n",
        "precision_1 = precision_score(y_true_1, y_pred_1)\n",
        "predictive_parity_diff = precision_1 - precision_0\n",
        "\n",
        "print(f\"Predictive Parity - Precision for Group 0: {precision_0:.4f}, Group 1: {precision_1:.4f}\")\n",
        "print(f\"Difference in Predictive Parity (Precision): {predictive_parity_diff:.4f}\")\n",
        "\n",
        "# Summary of Differences:\n",
        "overall_summary = {\n",
        "    \"Demographic Parity Difference\": demographic_parity_diff,\n",
        "    \"Equal Opportunity (TPR) Difference\": equal_opportunity_diff,\n",
        "    \"Equalized Odds TPR Difference\": equalized_odds_tpr_diff,\n",
        "    \"Equalized Odds FPR Difference\": equalized_odds_fpr_diff,\n",
        "    \"Predictive Parity Difference\": predictive_parity_diff\n",
        "}\n",
        "\n",
        "print(\"\\n=== Overall Fairness Summary ===\")\n",
        "for metric, diff in overall_summary.items():\n",
        "    print(f\"{metric}: {diff:.4f}\")"
      ],
      "metadata": {
        "colab": {
          "base_uri": "https://localhost:8080/"
        },
        "id": "QKE3oC8FZN5l",
        "outputId": "225afd81-e9ac-4578-f167-fbb9fb44c936"
      },
      "execution_count": null,
      "outputs": [
        {
          "output_type": "stream",
          "name": "stdout",
          "text": [
            "Demographic Parity - Group 0: 0.3182, Group 1: 0.5044\n",
            "Difference in Demographic Parity: 0.1862\n",
            "Equal Opportunity - TPR for Group 0: 0.6818, Group 1: 0.9421\n",
            "Difference in Equal Opportunity (TPR): 0.2602\n",
            "Equalized Odds - TPR for Group 0: 0.6818, Group 1: 0.9421\n",
            "Equalized Odds - FPR for Group 0: 0.1426, Group 1: 0.0561\n",
            "Difference in TPR (Equalized Odds): 0.2602\n",
            "Difference in FPR (Equalized Odds): 0.0865\n",
            "Predictive Parity - Precision for Group 0: 0.6977, Group 1: 0.9450\n",
            "Difference in Predictive Parity (Precision): 0.2473\n",
            "\n",
            "=== Overall Fairness Summary ===\n",
            "Demographic Parity Difference: 0.1862\n",
            "Equal Opportunity (TPR) Difference: 0.2602\n",
            "Equalized Odds TPR Difference: 0.2602\n",
            "Equalized Odds FPR Difference: 0.0865\n",
            "Predictive Parity Difference: 0.2473\n"
          ]
        }
      ]
    }
  ],
  "metadata": {
    "colab": {
      "machine_shape": "hm",
      "provenance": [],
      "toc_visible": true
    },
    "kernelspec": {
      "display_name": "Python 3",
      "name": "python3"
    },
    "language_info": {
      "name": "python"
    }
  },
  "nbformat": 4,
  "nbformat_minor": 0
}